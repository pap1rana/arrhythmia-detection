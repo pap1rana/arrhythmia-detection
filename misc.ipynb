{
 "cells": [
  {
   "cell_type": "code",
   "execution_count": 3,
   "outputs": [],
   "source": [
    "import os\n",
    "\n",
    "import pandas as pd\n",
    "import wfdb\n",
    "import ast"
   ],
   "metadata": {
    "collapsed": false,
    "ExecuteTime": {
     "end_time": "2023-06-15T00:11:38.452425806Z",
     "start_time": "2023-06-15T00:11:38.221354399Z"
    }
   }
  },
  {
   "cell_type": "markdown",
   "source": [
    "# Extracting all the classes characters that appear in the databases that we're potentially using"
   ],
   "metadata": {
    "collapsed": false
   }
  },
  {
   "cell_type": "code",
   "execution_count": null,
   "outputs": [],
   "source": [
    "databases = ['vfdb/', 'mitdb/', 'nsrdb/', 'svdb/', 'ltdb/']\n",
    "# Path to original data directory\n",
    "databases_dir = \"data_original/\"\n",
    "preprocessed_dir = \"data_processed/\""
   ],
   "metadata": {
    "collapsed": false
   }
  },
  {
   "cell_type": "code",
   "execution_count": null,
   "outputs": [],
   "source": [
    "classes_list = set()"
   ],
   "metadata": {
    "collapsed": false
   }
  },
  {
   "cell_type": "code",
   "execution_count": null,
   "outputs": [],
   "source": [
    "for database in databases:\n",
    "    database_path = os.path.join(databases_dir, database)\n",
    "\n",
    "    # LF a `RECORDS` file - contains the names of all the records in that database\n",
    "    records_file = os.path.join(database_path, \"RECORDS\")\n",
    "\n",
    "    with open(records_file, \"r\") as file:\n",
    "        record_names = file.read().splitlines()\n",
    "\n",
    "    for record_name in record_names:\n",
    "        record_path = os.path.join(database_path, record_name)\n",
    "\n",
    "        # Read the current record and its annotation\n",
    "        record = wfdb.rdrecord(record_path)\n",
    "        annotations = wfdb.rdann(record_path, \"atr\")\n",
    "\n",
    "        classes_list = classes_list.union(set(annotations.symbol))"
   ],
   "metadata": {
    "collapsed": false
   }
  },
  {
   "cell_type": "code",
   "execution_count": null,
   "outputs": [],
   "source": [
    "classes_list = list(classes_list)"
   ],
   "metadata": {
    "collapsed": false
   }
  },
  {
   "cell_type": "markdown",
   "source": [
    "# Df research"
   ],
   "metadata": {
    "collapsed": false
   }
  },
  {
   "cell_type": "code",
   "execution_count": 21,
   "outputs": [],
   "source": [
    "import re"
   ],
   "metadata": {
    "collapsed": false,
    "ExecuteTime": {
     "end_time": "2023-06-15T00:48:42.535334440Z",
     "start_time": "2023-06-15T00:48:42.214381990Z"
    }
   }
  },
  {
   "cell_type": "code",
   "execution_count": 2,
   "outputs": [],
   "source": [
    "df = pd.read_csv(\"data_sliced_tda/mitDB.csv\")"
   ],
   "metadata": {
    "collapsed": false
   }
  },
  {
   "cell_type": "code",
   "execution_count": 5,
   "outputs": [],
   "source": [
    "type(df['betti'])"
   ],
   "metadata": {
    "collapsed": false
   }
  },
  {
   "cell_type": "code",
   "execution_count": 24,
   "outputs": [],
   "source": [
    "string = \"\"\"[398 376 312 246 216 199 182 148 125 111 101  89  83  73  67  65  63  58\\n  56  55  52  51  50  47  45  44  41  38  37  36  36  34  34  34  34  32\\n  32  30  29  28  28  25  24  22  20  18  15  15  13  12  11  10  10   9\\n   9   9   9   9   9   9   8   7   7   6   6   6   6   6   5   5   5   5\\n   5   5   4   4   4   4   2   2   2   2   2   2   2   2   2   2   1   1\\n   1   1   1   1   1   1   1   1   1   0]\"\"\""
   ],
   "metadata": {
    "collapsed": false,
    "ExecuteTime": {
     "end_time": "2023-06-15T00:51:07.734375474Z",
     "start_time": "2023-06-15T00:51:07.404118802Z"
    }
   }
  },
  {
   "cell_type": "code",
   "execution_count": 26,
   "outputs": [],
   "source": [
    "cleaned_string = string.replace(\"[\", \"\").replace(\"]\", \"\").replace(\"\\n\", \"\").split()"
   ],
   "metadata": {
    "collapsed": false,
    "ExecuteTime": {
     "end_time": "2023-06-15T01:36:21.495432680Z",
     "start_time": "2023-06-15T01:36:21.193818325Z"
    }
   }
  },
  {
   "cell_type": "code",
   "execution_count": null,
   "outputs": [],
   "source": [
    "cleaned_string"
   ],
   "metadata": {
    "collapsed": false
   }
  },
  {
   "cell_type": "code",
   "execution_count": 28,
   "outputs": [
    {
     "ename": "SyntaxError",
     "evalue": "invalid syntax. Perhaps you forgot a comma? (<unknown>, line 1)",
     "output_type": "error",
     "traceback": [
      "Traceback \u001B[0;36m(most recent call last)\u001B[0m:\n",
      "\u001B[0m  File \u001B[1;32m/media/minx/Data/KDE_Home/Documents/Projects/arrhythmia-detection/venv/lib/python3.10/site-packages/IPython/core/interactiveshell.py:3508\u001B[0m in \u001B[1;35mrun_code\u001B[0m\n    exec(code_obj, self.user_global_ns, self.user_ns)\u001B[0m\n",
      "\u001B[0m  Cell \u001B[1;32mIn[28], line 1\u001B[0m\n    cleaned_string2 = ast.literal_eval(string)\u001B[0m\n",
      "\u001B[0m  File \u001B[1;32m/usr/lib/python3.10/ast.py:62\u001B[0m in \u001B[1;35mliteral_eval\u001B[0m\n    node_or_string = parse(node_or_string.lstrip(\" \\t\"), mode='eval')\u001B[0m\n",
      "\u001B[0;36m  File \u001B[0;32m/usr/lib/python3.10/ast.py:50\u001B[0;36m in \u001B[0;35mparse\u001B[0;36m\n\u001B[0;31m    return compile(source, filename, mode, flags,\u001B[0;36m\n",
      "\u001B[0;36m  File \u001B[0;32m<unknown>:1\u001B[0;36m\u001B[0m\n\u001B[0;31m    [[[337 332 302 234 173 148 135 124 118 112 109 103  97  87  80  79  78\u001B[0m\n\u001B[0m       ^\u001B[0m\n\u001B[0;31mSyntaxError\u001B[0m\u001B[0;31m:\u001B[0m invalid syntax. Perhaps you forgot a comma?\n"
     ]
    }
   ],
   "source": [
    "cleaned_string2 = ast.literal_eval(cleaned_string)"
   ],
   "metadata": {
    "collapsed": false,
    "ExecuteTime": {
     "end_time": "2023-06-15T01:43:17.253531477Z",
     "start_time": "2023-06-15T01:43:17.179870977Z"
    }
   }
  },
  {
   "cell_type": "code",
   "execution_count": null,
   "outputs": [],
   "source": [],
   "metadata": {
    "collapsed": false
   }
  }
 ],
 "metadata": {
  "kernelspec": {
   "display_name": "Python 3",
   "language": "python",
   "name": "python3"
  },
  "language_info": {
   "codemirror_mode": {
    "name": "ipython",
    "version": 2
   },
   "file_extension": ".py",
   "mimetype": "text/x-python",
   "name": "python",
   "nbconvert_exporter": "python",
   "pygments_lexer": "ipython2",
   "version": "2.7.6"
  }
 },
 "nbformat": 4,
 "nbformat_minor": 0
}
