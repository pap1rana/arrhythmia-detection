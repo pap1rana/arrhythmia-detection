{
 "cells": [
  {
   "cell_type": "code",
   "execution_count": 1,
   "outputs": [],
   "source": [
    "import json\n",
    "import os\n",
    "\n",
    "import pandas as pd\n",
    "import wfdb\n",
    "import ast"
   ],
   "metadata": {
    "collapsed": false,
    "ExecuteTime": {
     "end_time": "2023-06-15T03:10:42.642896302Z",
     "start_time": "2023-06-15T03:10:40.062908493Z"
    }
   }
  },
  {
   "cell_type": "markdown",
   "source": [
    "# Extracting all the classes characters that appear in the databases that we're potentially using"
   ],
   "metadata": {
    "collapsed": false
   }
  },
  {
   "cell_type": "code",
   "execution_count": null,
   "outputs": [],
   "source": [
    "databases = ['vfdb/', 'mitdb/', 'nsrdb/', 'svdb/', 'ltdb/']\n",
    "# Path to original data directory\n",
    "databases_dir = \"data_original/\"\n",
    "preprocessed_dir = \"data_processed/\""
   ],
   "metadata": {
    "collapsed": false
   }
  },
  {
   "cell_type": "code",
   "execution_count": null,
   "outputs": [],
   "source": [
    "classes_list = set()"
   ],
   "metadata": {
    "collapsed": false
   }
  },
  {
   "cell_type": "code",
   "execution_count": null,
   "outputs": [],
   "source": [
    "for database in databases:\n",
    "    database_path = os.path.join(databases_dir, database)\n",
    "\n",
    "    # LF a `RECORDS` file - contains the names of all the records in that database\n",
    "    records_file = os.path.join(database_path, \"RECORDS\")\n",
    "\n",
    "    with open(records_file, \"r\") as file:\n",
    "        record_names = file.read().splitlines()\n",
    "\n",
    "    for record_name in record_names:\n",
    "        record_path = os.path.join(database_path, record_name)\n",
    "\n",
    "        # Read the current record and its annotation\n",
    "        record = wfdb.rdrecord(record_path)\n",
    "        annotations = wfdb.rdann(record_path, \"atr\")\n",
    "\n",
    "        classes_list = classes_list.union(set(annotations.symbol))"
   ],
   "metadata": {
    "collapsed": false
   }
  },
  {
   "cell_type": "code",
   "execution_count": null,
   "outputs": [],
   "source": [
    "classes_list = list(classes_list)"
   ],
   "metadata": {
    "collapsed": false
   }
  },
  {
   "cell_type": "markdown",
   "source": [
    "# Df research"
   ],
   "metadata": {
    "collapsed": false
   }
  },
  {
   "cell_type": "code",
   "execution_count": 2,
   "outputs": [],
   "source": [
    "import re\n",
    "import json"
   ],
   "metadata": {
    "collapsed": false,
    "ExecuteTime": {
     "end_time": "2023-06-15T03:12:29.361170478Z",
     "start_time": "2023-06-15T03:12:29.312996891Z"
    }
   }
  },
  {
   "cell_type": "code",
   "execution_count": 3,
   "outputs": [],
   "source": [
    "def fix_retarded_string(retarded_string):\n",
    "    string_data = retarded_string[1:-1]\n",
    "    string_data = (re.sub(r'\\s+', ',', string_data.replace(\"\\n\", \"\"))).replace(\"[,\", \"[\")\n",
    "\n",
    "    # Both of these work:\n",
    "    #return json.loads(string_data)\n",
    "    return ast.literal_eval(string_data)\n"
   ],
   "metadata": {
    "collapsed": false,
    "ExecuteTime": {
     "end_time": "2023-06-15T03:12:29.856245242Z",
     "start_time": "2023-06-15T03:12:29.850092740Z"
    }
   }
  },
  {
   "cell_type": "code",
   "execution_count": 4,
   "outputs": [],
   "source": [
    "df = pd.read_csv(\"../mitDB.csv\")"
   ],
   "metadata": {
    "collapsed": false,
    "ExecuteTime": {
     "end_time": "2023-06-15T03:12:36.681499582Z",
     "start_time": "2023-06-15T03:12:33.387802819Z"
    }
   }
  },
  {
   "cell_type": "code",
   "execution_count": 5,
   "outputs": [],
   "source": [
    "string = df['betti'][1]"
   ],
   "metadata": {
    "collapsed": false,
    "ExecuteTime": {
     "end_time": "2023-06-15T03:12:49.329117343Z",
     "start_time": "2023-06-15T03:12:49.284980342Z"
    }
   }
  },
  {
   "cell_type": "code",
   "execution_count": 6,
   "outputs": [
    {
     "data": {
      "text/plain": "'[[[379 369 335 279 216 187 169 154 141 132 128 122 111  98  87  83  75\\n    67  59  55  50  46  46  45  42  42  41  40  39  39  38  36  35  35\\n    35  34  32  31  29  28  26  25  25  24  22  19  18  18  18  18  18\\n    18  18  18  18  16  15  14  14  14  14  14  13  13  12  12  12  12\\n    10   9   9   9   9   9   9   9   9   9   9   8   8   7   7   7   7\\n     7   5   5   3   3   3   3   3   3   3   3   3   3   1   0]\\n  [  1   1   2   4   6   2   7   7   6   4   6   9   6   2   2   1   0\\n     0   2   3   2   2   1   2   2   2   2   1   3   3   1   0   0   0\\n     0   0   0   0   0   1   0   0   0   0   0   0   0   0   1   1   1\\n     1   1   1   1   1   1   1   1   1   1   1   1   1   1   1   1   1\\n     1   1   1   1   1   2   2   3   3   3   3   3   3   3   3   3   3\\n     3   3   3   3   3   2   2   2   1   1   1   1   1   1   0]]]'"
     },
     "execution_count": 6,
     "metadata": {},
     "output_type": "execute_result"
    }
   ],
   "source": [
    "string"
   ],
   "metadata": {
    "collapsed": false,
    "ExecuteTime": {
     "end_time": "2023-06-15T03:12:50.437695330Z",
     "start_time": "2023-06-15T03:12:50.420515321Z"
    }
   }
  },
  {
   "cell_type": "code",
   "execution_count": 7,
   "outputs": [
    {
     "data": {
      "text/plain": "[[379,\n  369,\n  335,\n  279,\n  216,\n  187,\n  169,\n  154,\n  141,\n  132,\n  128,\n  122,\n  111,\n  98,\n  87,\n  83,\n  75,\n  67,\n  59,\n  55,\n  50,\n  46,\n  46,\n  45,\n  42,\n  42,\n  41,\n  40,\n  39,\n  39,\n  38,\n  36,\n  35,\n  35,\n  35,\n  34,\n  32,\n  31,\n  29,\n  28,\n  26,\n  25,\n  25,\n  24,\n  22,\n  19,\n  18,\n  18,\n  18,\n  18,\n  18,\n  18,\n  18,\n  18,\n  18,\n  16,\n  15,\n  14,\n  14,\n  14,\n  14,\n  14,\n  13,\n  13,\n  12,\n  12,\n  12,\n  12,\n  10,\n  9,\n  9,\n  9,\n  9,\n  9,\n  9,\n  9,\n  9,\n  9,\n  9,\n  8,\n  8,\n  7,\n  7,\n  7,\n  7,\n  7,\n  5,\n  5,\n  3,\n  3,\n  3,\n  3,\n  3,\n  3,\n  3,\n  3,\n  3,\n  3,\n  1,\n  0],\n [1,\n  1,\n  2,\n  4,\n  6,\n  2,\n  7,\n  7,\n  6,\n  4,\n  6,\n  9,\n  6,\n  2,\n  2,\n  1,\n  0,\n  0,\n  2,\n  3,\n  2,\n  2,\n  1,\n  2,\n  2,\n  2,\n  2,\n  1,\n  3,\n  3,\n  1,\n  0,\n  0,\n  0,\n  0,\n  0,\n  0,\n  0,\n  0,\n  1,\n  0,\n  0,\n  0,\n  0,\n  0,\n  0,\n  0,\n  0,\n  1,\n  1,\n  1,\n  1,\n  1,\n  1,\n  1,\n  1,\n  1,\n  1,\n  1,\n  1,\n  1,\n  1,\n  1,\n  1,\n  1,\n  1,\n  1,\n  1,\n  1,\n  1,\n  1,\n  1,\n  1,\n  2,\n  2,\n  3,\n  3,\n  3,\n  3,\n  3,\n  3,\n  3,\n  3,\n  3,\n  3,\n  3,\n  3,\n  3,\n  3,\n  3,\n  2,\n  2,\n  2,\n  1,\n  1,\n  1,\n  1,\n  1,\n  1,\n  0]]"
     },
     "execution_count": 7,
     "metadata": {},
     "output_type": "execute_result"
    }
   ],
   "source": [
    "fix_retarded_string(string)"
   ],
   "metadata": {
    "collapsed": false,
    "ExecuteTime": {
     "end_time": "2023-06-15T03:12:54.832604151Z",
     "start_time": "2023-06-15T03:12:54.824695278Z"
    }
   }
  },
  {
   "cell_type": "code",
   "execution_count": 8,
   "outputs": [],
   "source": [
    "df[\"betti_H0\"] = df['betti'].apply(lambda x: fix_retarded_string(x)[0])"
   ],
   "metadata": {
    "collapsed": false,
    "ExecuteTime": {
     "end_time": "2023-06-15T03:13:37.465208440Z",
     "start_time": "2023-06-15T03:13:00.383558959Z"
    }
   }
  },
  {
   "cell_type": "code",
   "execution_count": 9,
   "outputs": [
    {
     "data": {
      "text/plain": "0         [337, 332, 302, 234, 173, 148, 135, 124, 118, ...\n1         [379, 369, 335, 279, 216, 187, 169, 154, 141, ...\n2         [379, 360, 310, 263, 202, 180, 161, 149, 140, ...\n3         [381, 368, 324, 281, 237, 185, 164, 154, 146, ...\n4         [385, 369, 312, 248, 190, 167, 152, 141, 132, ...\n                                ...                        \n109219    [417, 414, 383, 346, 300, 269, 241, 216, 190, ...\n109220    [416, 410, 365, 316, 273, 255, 217, 177, 144, ...\n109221    [413, 413, 399, 370, 315, 272, 244, 223, 205, ...\n109222    [408, 401, 391, 356, 296, 260, 235, 219, 196, ...\n109223    [402, 394, 386, 357, 301, 258, 240, 201, 180, ...\nName: betti_H0, Length: 109224, dtype: object"
     },
     "execution_count": 9,
     "metadata": {},
     "output_type": "execute_result"
    }
   ],
   "source": [
    "df[\"betti_H0\"]"
   ],
   "metadata": {
    "collapsed": false,
    "ExecuteTime": {
     "end_time": "2023-06-15T03:16:27.429812012Z",
     "start_time": "2023-06-15T03:16:27.381496450Z"
    }
   }
  },
  {
   "cell_type": "code",
   "execution_count": 13,
   "outputs": [
    {
     "data": {
      "text/plain": "0         [1, 8, 4, 3, 3, 0, 0, 0, 0, 1, 1, 2, 3, 4, 3, ...\n1         [1, 1, 2, 4, 6, 2, 7, 7, 6, 4, 6, 9, 6, 2, 2, ...\n2         [1, 2, 4, 5, 5, 3, 8, 5, 5, 2, 3, 6, 7, 8, 5, ...\n3         [1, 0, 5, 9, 5, 5, 7, 5, 10, 7, 13, 6, 0, 1, 1...\n4         [1, 1, 5, 8, 5, 11, 3, 3, 5, 4, 2, 3, 2, 3, 3,...\n                                ...                        \n109219    [1, 1, 1, 1, 4, 1, 2, 5, 4, 6, 6, 6, 8, 6, 9, ...\n109220    [1, 1, 3, 0, 4, 5, 6, 5, 7, 6, 5, 5, 8, 8, 9, ...\n109221    [1, 0, 0, 1, 6, 4, 10, 8, 9, 11, 12, 14, 13, 1...\n109222    [1, 3, 6, 3, 7, 6, 9, 8, 7, 9, 12, 8, 8, 9, 7,...\n109223    [1, 1, 2, 2, 3, 10, 7, 8, 12, 12, 15, 6, 7, 8,...\nName: betti_H1, Length: 109224, dtype: object"
     },
     "execution_count": 13,
     "metadata": {},
     "output_type": "execute_result"
    }
   ],
   "source": [
    "df['betti_H1']"
   ],
   "metadata": {
    "collapsed": false,
    "ExecuteTime": {
     "end_time": "2023-06-15T03:20:43.597942522Z",
     "start_time": "2023-06-15T03:20:43.553020007Z"
    }
   }
  },
  {
   "cell_type": "code",
   "execution_count": 10,
   "outputs": [],
   "source": [
    "df[\"betti_H1\"] = df['betti'].apply(lambda x: fix_retarded_string(x)[1])"
   ],
   "metadata": {
    "collapsed": false,
    "ExecuteTime": {
     "end_time": "2023-06-15T03:17:08.823867996Z",
     "start_time": "2023-06-15T03:16:32.257339570Z"
    }
   }
  },
  {
   "cell_type": "code",
   "execution_count": 14,
   "outputs": [
    {
     "data": {
      "text/plain": "int"
     },
     "execution_count": 14,
     "metadata": {},
     "output_type": "execute_result"
    }
   ],
   "source": [
    "type(df[\"betti_H1\"][0][0])"
   ],
   "metadata": {
    "collapsed": false,
    "ExecuteTime": {
     "end_time": "2023-06-15T03:21:42.118255806Z",
     "start_time": "2023-06-15T03:21:42.080970384Z"
    }
   }
  },
  {
   "cell_type": "code",
   "execution_count": null,
   "outputs": [],
   "source": [],
   "metadata": {
    "collapsed": false
   }
  }
 ],
 "metadata": {
  "kernelspec": {
   "display_name": "Python 3",
   "language": "python",
   "name": "python3"
  },
  "language_info": {
   "codemirror_mode": {
    "name": "ipython",
    "version": 2
   },
   "file_extension": ".py",
   "mimetype": "text/x-python",
   "name": "python",
   "nbconvert_exporter": "python",
   "pygments_lexer": "ipython2",
   "version": "2.7.6"
  }
 },
 "nbformat": 4,
 "nbformat_minor": 0
}
