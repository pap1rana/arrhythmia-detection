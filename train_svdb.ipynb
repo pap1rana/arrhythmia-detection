{
 "cells": [
  {
   "cell_type": "code",
   "execution_count": 5,
   "metadata": {
    "collapsed": true,
    "ExecuteTime": {
     "end_time": "2023-06-15T20:45:29.458552133Z",
     "start_time": "2023-06-15T20:45:29.453739786Z"
    }
   },
   "outputs": [],
   "source": [
    "from sklearn.model_selection import train_test_split\n",
    "from tensorflow.keras.utils import to_categorical\n",
    "from tensorflow.keras.models import load_model, Sequential\n",
    "import pandas as pd\n",
    "import numpy as np\n",
    "import model_training_utils as mtu"
   ]
  },
  {
   "cell_type": "code",
   "execution_count": null,
   "outputs": [],
   "source": [
    "model = load_model('models_raw/4conv_1dens32.hdf5')"
   ],
   "metadata": {
    "collapsed": false
   }
  },
  {
   "cell_type": "code",
   "execution_count": 7,
   "outputs": [],
   "source": [
    "data = pd.read_csv(\"data_sliced_tda/svDB.csv\")\n"
   ],
   "metadata": {
    "collapsed": false,
    "ExecuteTime": {
     "end_time": "2023-06-15T20:46:11.123859857Z",
     "start_time": "2023-06-15T20:46:04.115650428Z"
    }
   }
  },
  {
   "cell_type": "code",
   "execution_count": 8,
   "outputs": [],
   "source": [
    "# Fix the lame type, string -> list\n",
    "data['betti_H1'] = data['betti_H1'].apply(lambda x: mtu.fix_betti_string_svdb(x))\n",
    "# Turn the list into a np.array of floats\n",
    "data['betti_H1'] = data['betti_H1'].apply(lambda x: (np.array([float(num) for num in x])))\n",
    "\n",
    "# Split the data into data and classes\n",
    "X, y = data['betti_H1'], data['ann']\n",
    "\n",
    "# Split to train and test data\n",
    "X_train, X_test, y_train, y_test = train_test_split(X, y, test_size=0.2, stratify=y, random_state=420)\n",
    "\n",
    "# Encode the classes\n",
    "y_train = to_categorical(np.array(y_train.to_list()))\n",
    "\n",
    "# ????? Make a 3dim train data I guess\n",
    "X_train = np.array(X_train.to_list())\n",
    "X_train = X_train.reshape(X_train.shape[0], X_train.shape[1], 1)"
   ],
   "metadata": {
    "collapsed": false,
    "ExecuteTime": {
     "end_time": "2023-06-15T20:46:36.887178173Z",
     "start_time": "2023-06-15T20:46:15.869346359Z"
    }
   }
  },
  {
   "cell_type": "code",
   "execution_count": null,
   "outputs": [],
   "source": [
    "history = model.fit(X_train, y_train, batch_size=128, epochs=10, validation_split=0.2, verbose=1)"
   ],
   "metadata": {
    "collapsed": false
   }
  },
  {
   "cell_type": "code",
   "execution_count": 10,
   "outputs": [],
   "source": [
    "model.save(\"models_trained/4conv_1dens32_trained.hdf5\")"
   ],
   "metadata": {
    "collapsed": false,
    "ExecuteTime": {
     "end_time": "2023-06-15T20:57:02.101541090Z",
     "start_time": "2023-06-15T20:57:01.971040232Z"
    }
   }
  },
  {
   "cell_type": "markdown",
   "source": [
    "# Random test block"
   ],
   "metadata": {
    "collapsed": false
   }
  },
  {
   "cell_type": "code",
   "execution_count": 19,
   "outputs": [
    {
     "name": "stdout",
     "output_type": "stream",
     "text": [
      "X:  (184045,)  | y:  (184045,)\n"
     ]
    }
   ],
   "source": [
    "#print(\"X: \", X.shape, \" | y: \", y.shape)\n",
    "#print(\"X shape: \", X_train.shape, \" | X type: \", type(X_train), \" | X[0] shape: \", X_train[0].shape, \" | X[0] type: \", type(X_train[0]))\n",
    "#print(\"X train: \", X_train.shape, \" | X test: \", X_test.shape, \" | y train: \", y_train.shape, \" | y test: \", y_test.shape)"
   ],
   "metadata": {
    "collapsed": false,
    "ExecuteTime": {
     "end_time": "2023-06-15T18:54:01.139368491Z",
     "start_time": "2023-06-15T18:54:01.084178179Z"
    }
   }
  }
 ],
 "metadata": {
  "kernelspec": {
   "display_name": "Python 3",
   "language": "python",
   "name": "python3"
  },
  "language_info": {
   "codemirror_mode": {
    "name": "ipython",
    "version": 2
   },
   "file_extension": ".py",
   "mimetype": "text/x-python",
   "name": "python",
   "nbconvert_exporter": "python",
   "pygments_lexer": "ipython2",
   "version": "2.7.6"
  }
 },
 "nbformat": 4,
 "nbformat_minor": 0
}
