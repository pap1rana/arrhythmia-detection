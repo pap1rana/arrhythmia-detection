{
 "cells": [
  {
   "cell_type": "code",
   "execution_count": 2,
   "metadata": {
    "collapsed": true,
    "ExecuteTime": {
     "end_time": "2023-06-15T21:13:11.701626025Z",
     "start_time": "2023-06-15T21:13:11.659984011Z"
    }
   },
   "outputs": [],
   "source": [
    "from sklearn.model_selection import train_test_split\n",
    "from tensorflow.keras.utils import to_categorical\n",
    "from tensorflow.keras.models import load_model, Sequential\n",
    "import pandas as pd\n",
    "import numpy as np\n",
    "import model_training_utils as mtu"
   ]
  },
  {
   "cell_type": "markdown",
   "source": [
    "# svDB prep"
   ],
   "metadata": {
    "collapsed": false
   }
  },
  {
   "cell_type": "code",
   "execution_count": 3,
   "outputs": [],
   "source": [
    "svdb_data = pd.read_csv(\"data_sliced_tda/svDB.csv\")\n",
    "svdb_data = svdb_data[['betti_H1', 'ann']]\n",
    "\n",
    "# Fix the lame type, string -> list\n",
    "svdb_data['betti_H1'] = svdb_data['betti_H1'].apply(lambda x: mtu.fix_betti_string_svdb(x))\n",
    "# Turn the list into a np.array of floats\n",
    "svdb_data['betti_H1'] = svdb_data['betti_H1'].apply(lambda x: (np.array([float(num) for num in x])))"
   ],
   "metadata": {
    "collapsed": false,
    "ExecuteTime": {
     "end_time": "2023-06-15T21:13:47.124344918Z",
     "start_time": "2023-06-15T21:13:18.602680864Z"
    }
   }
  },
  {
   "cell_type": "markdown",
   "source": [
    "# mitDB prep"
   ],
   "metadata": {
    "collapsed": false
   }
  },
  {
   "cell_type": "code",
   "execution_count": 6,
   "outputs": [],
   "source": [
    "mitdb_data = pd.read_csv(\"data_sliced_tda/mitDB.csv\")\n",
    "\n",
    "mitdb_data['betti_H1'] = mitdb_data['betti'].apply(lambda x: np.array(mtu.fix_betti_string_mitdb(x)[1]))\n",
    "mitdb_data = mitdb_data[['betti_H1', 'ann']]"
   ],
   "metadata": {
    "collapsed": false,
    "ExecuteTime": {
     "end_time": "2023-06-15T21:17:28.277020026Z",
     "start_time": "2023-06-15T21:16:59.760542900Z"
    }
   }
  },
  {
   "cell_type": "markdown",
   "source": [
    "# Random research"
   ],
   "metadata": {
    "collapsed": false
   }
  },
  {
   "cell_type": "code",
   "execution_count": 8,
   "outputs": [
    {
     "data": {
      "text/plain": "(100,)"
     },
     "execution_count": 8,
     "metadata": {},
     "output_type": "execute_result"
    }
   ],
   "source": [
    "mitdb_data['betti_H1'][0].shape"
   ],
   "metadata": {
    "collapsed": false,
    "ExecuteTime": {
     "end_time": "2023-06-15T21:18:23.025847810Z",
     "start_time": "2023-06-15T21:18:23.003128237Z"
    }
   }
  },
  {
   "cell_type": "markdown",
   "source": [
    "# Merging data and doing rest of the prep"
   ],
   "metadata": {
    "collapsed": false
   }
  },
  {
   "cell_type": "code",
   "execution_count": 9,
   "outputs": [],
   "source": [
    "concatenated_data = pd.concat([svdb_data, mitdb_data])\n",
    "concatenated_data = concatenated_data.reset_index(drop=True)"
   ],
   "metadata": {
    "collapsed": false,
    "ExecuteTime": {
     "end_time": "2023-06-15T21:21:54.129538467Z",
     "start_time": "2023-06-15T21:21:54.086263670Z"
    }
   }
  },
  {
   "cell_type": "code",
   "execution_count": 14,
   "outputs": [],
   "source": [
    "X, y = concatenated_data['betti_H1'], concatenated_data['ann']\n",
    "\n",
    "# Split to train and test data\n",
    "X_train, X_test, y_train, y_test = train_test_split(X, y, test_size=0.2, stratify=y, random_state=420)\n",
    "\n",
    "# Encode the classes\n",
    "y_train = to_categorical(np.array(y_train.to_list()))\n",
    "\n",
    "# ????? Make a 3dim train data I guess\n",
    "X_train = np.array(X_train.to_list())\n",
    "X_train = X_train.reshape(X_train.shape[0], X_train.shape[1], 1)"
   ],
   "metadata": {
    "collapsed": false,
    "ExecuteTime": {
     "end_time": "2023-06-15T21:24:49.423434828Z",
     "start_time": "2023-06-15T21:24:48.968676026Z"
    }
   }
  },
  {
   "cell_type": "markdown",
   "source": [
    "# Model training"
   ],
   "metadata": {
    "collapsed": false
   }
  },
  {
   "cell_type": "code",
   "execution_count": 15,
   "outputs": [
    {
     "name": "stderr",
     "output_type": "stream",
     "text": [
      "2023-06-15 23:25:35.687494: E tensorflow/compiler/xla/stream_executor/cuda/cuda_driver.cc:266] failed call to cuInit: CUDA_ERROR_NO_DEVICE: no CUDA-capable device is detected\n"
     ]
    },
    {
     "name": "stdout",
     "output_type": "stream",
     "text": [
      "Epoch 1/10\n",
      "1466/1467 [============================>.] - ETA: 0s - loss: 0.4408 - accuracy: 0.8279"
     ]
    },
    {
     "name": "stderr",
     "output_type": "stream",
     "text": [
      "2023-06-15 23:26:25.323988: W tensorflow/tsl/framework/cpu_allocator_impl.cc:83] Allocation of 18769200 exceeds 10% of free system memory.\n"
     ]
    },
    {
     "name": "stdout",
     "output_type": "stream",
     "text": [
      "1467/1467 [==============================] - 51s 34ms/step - loss: 0.4408 - accuracy: 0.8279 - val_loss: 0.4020 - val_accuracy: 0.8356\n",
      "Epoch 2/10\n",
      "1467/1467 [==============================] - 50s 34ms/step - loss: 0.3996 - accuracy: 0.8399 - val_loss: 0.3807 - val_accuracy: 0.8476\n",
      "Epoch 3/10\n",
      "1467/1467 [==============================] - 49s 33ms/step - loss: 0.3844 - accuracy: 0.8452 - val_loss: 0.3679 - val_accuracy: 0.8521\n",
      "Epoch 4/10\n",
      "1467/1467 [==============================] - 52s 36ms/step - loss: 0.3746 - accuracy: 0.8494 - val_loss: 0.3605 - val_accuracy: 0.8537\n",
      "Epoch 5/10\n",
      "1467/1467 [==============================] - 52s 36ms/step - loss: 0.3691 - accuracy: 0.8506 - val_loss: 0.3582 - val_accuracy: 0.8539\n",
      "Epoch 6/10\n",
      "1467/1467 [==============================] - 57s 39ms/step - loss: 0.3637 - accuracy: 0.8525 - val_loss: 0.3546 - val_accuracy: 0.8559\n",
      "Epoch 7/10\n",
      "1467/1467 [==============================] - 56s 38ms/step - loss: 0.3601 - accuracy: 0.8538 - val_loss: 0.3502 - val_accuracy: 0.8569\n",
      "Epoch 8/10\n",
      "1467/1467 [==============================] - 53s 36ms/step - loss: 0.3564 - accuracy: 0.8545 - val_loss: 0.3480 - val_accuracy: 0.8566\n",
      "Epoch 9/10\n",
      "1467/1467 [==============================] - 55s 38ms/step - loss: 0.3526 - accuracy: 0.8558 - val_loss: 0.3438 - val_accuracy: 0.8584\n",
      "Epoch 10/10\n",
      "1467/1467 [==============================] - 51s 35ms/step - loss: 0.3496 - accuracy: 0.8564 - val_loss: 0.3429 - val_accuracy: 0.8582\n"
     ]
    },
    {
     "ename": "AttributeError",
     "evalue": "'History' object has no attribute 'save'",
     "output_type": "error",
     "traceback": [
      "\u001B[0;31m---------------------------------------------------------------------------\u001B[0m",
      "\u001B[0;31mAttributeError\u001B[0m                            Traceback (most recent call last)",
      "Cell \u001B[0;32mIn[15], line 3\u001B[0m\n\u001B[1;32m      1\u001B[0m model \u001B[38;5;241m=\u001B[39m load_model(\u001B[38;5;124m'\u001B[39m\u001B[38;5;124mmodels_raw/4conv_1dens32.hdf5\u001B[39m\u001B[38;5;124m'\u001B[39m)\n\u001B[1;32m      2\u001B[0m history \u001B[38;5;241m=\u001B[39m model\u001B[38;5;241m.\u001B[39mfit(X_train, y_train, batch_size\u001B[38;5;241m=\u001B[39m\u001B[38;5;241m128\u001B[39m, epochs\u001B[38;5;241m=\u001B[39m\u001B[38;5;241m10\u001B[39m, validation_split\u001B[38;5;241m=\u001B[39m\u001B[38;5;241m0.2\u001B[39m, verbose\u001B[38;5;241m=\u001B[39m\u001B[38;5;241m1\u001B[39m)\n\u001B[0;32m----> 3\u001B[0m \u001B[43mhistory\u001B[49m\u001B[38;5;241;43m.\u001B[39;49m\u001B[43msave\u001B[49m(\u001B[38;5;124m\"\u001B[39m\u001B[38;5;124mmodels_trained/both_svdb_mitdb_trained.hdf5\u001B[39m\u001B[38;5;124m\"\u001B[39m)\n",
      "\u001B[0;31mAttributeError\u001B[0m: 'History' object has no attribute 'save'"
     ]
    }
   ],
   "source": [
    "model = load_model('models_raw/4conv_1dens32.hdf5')\n",
    "history = model.fit(X_train, y_train, batch_size=128, epochs=10, validation_split=0.2, verbose=1)\n",
    "model.save(\"models_trained/both_svdb_mitdb_trained.hdf5\")"
   ],
   "metadata": {
    "collapsed": false,
    "ExecuteTime": {
     "end_time": "2023-06-15T21:34:23.551843302Z",
     "start_time": "2023-06-15T21:25:35.307018993Z"
    }
   }
  },
  {
   "cell_type": "markdown",
   "source": [
    "# Model testing and evaluating"
   ],
   "metadata": {
    "collapsed": false
   }
  },
  {
   "cell_type": "code",
   "execution_count": 17,
   "outputs": [],
   "source": [
    "# Encode the test classes\n",
    "y_test = to_categorical(np.array(y_test.to_list()))\n",
    "\n",
    "# ????? Make a 3dim train data I guess\n",
    "X_test = np.array(X_test.to_list())\n",
    "X_test = X_test.reshape(X_test.shape[0], X_test.shape[1], 1)"
   ],
   "metadata": {
    "collapsed": false,
    "ExecuteTime": {
     "end_time": "2023-06-15T21:35:22.494564183Z",
     "start_time": "2023-06-15T21:35:22.433169695Z"
    }
   }
  },
  {
   "cell_type": "code",
   "execution_count": 19,
   "outputs": [
    {
     "name": "stdout",
     "output_type": "stream",
     "text": [
      "  49/1833 [..............................] - ETA: 5s - loss: 0.3392 - accuracy: 0.8552"
     ]
    },
    {
     "name": "stderr",
     "output_type": "stream",
     "text": [
      "2023-06-15 23:35:48.495063: W tensorflow/tsl/framework/cpu_allocator_impl.cc:83] Allocation of 23461600 exceeds 10% of free system memory.\n"
     ]
    },
    {
     "name": "stdout",
     "output_type": "stream",
     "text": [
      "1833/1833 [==============================] - 6s 3ms/step - loss: 0.3433 - accuracy: 0.8592\n",
      "Test Loss: 0.34327471256256104\n",
      "Test Accuracy: 0.8591911792755127\n"
     ]
    }
   ],
   "source": [
    "loss, accuracy = model.evaluate(X_test, y_test)\n",
    "print(\"Test Loss:\", loss)\n",
    "print(\"Test Accuracy:\", accuracy)"
   ],
   "metadata": {
    "collapsed": false,
    "ExecuteTime": {
     "end_time": "2023-06-15T21:35:54.053342831Z",
     "start_time": "2023-06-15T21:35:48.488707115Z"
    }
   }
  },
  {
   "cell_type": "code",
   "execution_count": null,
   "outputs": [],
   "source": [],
   "metadata": {
    "collapsed": false
   }
  }
 ],
 "metadata": {
  "kernelspec": {
   "display_name": "Python 3",
   "language": "python",
   "name": "python3"
  },
  "language_info": {
   "codemirror_mode": {
    "name": "ipython",
    "version": 2
   },
   "file_extension": ".py",
   "mimetype": "text/x-python",
   "name": "python",
   "nbconvert_exporter": "python",
   "pygments_lexer": "ipython2",
   "version": "2.7.6"
  }
 },
 "nbformat": 4,
 "nbformat_minor": 0
}
