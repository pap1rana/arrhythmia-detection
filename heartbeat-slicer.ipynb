{
 "cells": [
  {
   "cell_type": "code",
   "execution_count": 2,
   "metadata": {
    "collapsed": true,
    "ExecuteTime": {
     "end_time": "2023-05-17T20:54:32.649171512Z",
     "start_time": "2023-05-17T20:54:32.601283840Z"
    }
   },
   "outputs": [],
   "source": [
    "import os\n",
    "import wfdb\n",
    "from wfdb import processing"
   ]
  },
  {
   "cell_type": "code",
   "execution_count": 7,
   "outputs": [],
   "source": [
    "class HeartbeatSlicer:\n",
    "    def __init__(self, record_path):\n",
    "        self.record = wfdb.rdrecord(record_path)\n",
    "        self.ecg_data = self.record.p_signal\n",
    "        self.sampling_rate = self.record.fs\n",
    "        self.peak_indices = self.detect_peaks()\n",
    "\n",
    "    def detect_peaks(self):\n",
    "        peak_indices = processing.gqrs_detect(sig=self.ecg_data, fs=self.sampling_rate)\n",
    "        return peak_indices\n",
    "\n",
    "    def get_peaks(self):\n",
    "        return self.peak_indices"
   ],
   "metadata": {
    "collapsed": false,
    "ExecuteTime": {
     "end_time": "2023-05-17T21:12:54.025225595Z",
     "start_time": "2023-05-17T21:12:53.982439721Z"
    }
   }
  },
  {
   "cell_type": "code",
   "execution_count": 12,
   "outputs": [],
   "source": [
    "sliced = HeartbeatSlicer(\"data_original/mitdb/1.0.0/100\")"
   ],
   "metadata": {
    "collapsed": false,
    "ExecuteTime": {
     "end_time": "2023-05-17T21:14:09.113160440Z",
     "start_time": "2023-05-17T21:13:56.978417727Z"
    }
   }
  },
  {
   "cell_type": "code",
   "execution_count": 13,
   "outputs": [
    {
     "name": "stdout",
     "output_type": "stream",
     "text": [
      "[    139     726    1311 ... 1298955 1299453 1299980]\n"
     ]
    }
   ],
   "source": [
    "print(sliced.get_peaks())"
   ],
   "metadata": {
    "collapsed": false,
    "ExecuteTime": {
     "end_time": "2023-05-17T21:14:09.113729315Z",
     "start_time": "2023-05-17T21:14:09.112978759Z"
    }
   }
  },
  {
   "cell_type": "code",
   "execution_count": null,
   "outputs": [],
   "source": [],
   "metadata": {
    "collapsed": false
   }
  }
 ],
 "metadata": {
  "kernelspec": {
   "display_name": "Python 3",
   "language": "python",
   "name": "python3"
  },
  "language_info": {
   "codemirror_mode": {
    "name": "ipython",
    "version": 2
   },
   "file_extension": ".py",
   "mimetype": "text/x-python",
   "name": "python",
   "nbconvert_exporter": "python",
   "pygments_lexer": "ipython2",
   "version": "2.7.6"
  }
 },
 "nbformat": 4,
 "nbformat_minor": 0
}
