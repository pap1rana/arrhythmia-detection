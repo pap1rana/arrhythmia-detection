{
 "cells": [
  {
   "cell_type": "code",
   "execution_count": 1,
   "outputs": [],
   "source": [
    "# Implicit reloading of modules\n",
    "# (jupyter is acting weird and doesn't reimport stuff after you make changes)\n",
    "%load_ext autoreload\n",
    "%autoreload 2"
   ],
   "metadata": {
    "collapsed": false,
    "ExecuteTime": {
     "end_time": "2023-06-07T19:05:50.928676154Z",
     "start_time": "2023-06-07T19:05:50.915440647Z"
    }
   }
  },
  {
   "cell_type": "code",
   "execution_count": 2,
   "outputs": [],
   "source": [
    "# Public modules\n",
    "import os\n",
    "import wfdb\n",
    "import importlib\n",
    "import numpy as np\n",
    "\n",
    "# Custom modules\n",
    "import preprocessing_utils"
   ],
   "metadata": {
    "collapsed": false,
    "ExecuteTime": {
     "end_time": "2023-06-07T19:05:52.278186039Z",
     "start_time": "2023-06-07T19:05:50.929254475Z"
    }
   }
  },
  {
   "cell_type": "code",
   "execution_count": 3,
   "outputs": [
    {
     "data": {
      "text/plain": "<module 'preprocessing_utils' from '/home/pap1rana/Desktop/arrhythmia-detection/preprocessing_utils.py'>"
     },
     "execution_count": 3,
     "metadata": {},
     "output_type": "execute_result"
    }
   ],
   "source": [
    "# Explicit reloading of modules\n",
    "importlib.reload(preprocessing_utils)"
   ],
   "metadata": {
    "collapsed": false,
    "ExecuteTime": {
     "end_time": "2023-06-07T19:05:52.327841241Z",
     "start_time": "2023-06-07T19:05:52.281543361Z"
    }
   }
  },
  {
   "cell_type": "code",
   "execution_count": 14,
   "outputs": [],
   "source": [
    "# List with the databases we're including in the preprocessing\n",
    "databases = ['vfdb/', 'mitdb/', 'nsrdb/', 'svdb/', 'ltdb']\n",
    "# Path to original data directory\n",
    "databases_dir = \"data_original/\"\n",
    "preprocessed_dir = \"data_processed/\""
   ],
   "metadata": {
    "collapsed": false,
    "ExecuteTime": {
     "end_time": "2023-06-07T20:42:37.464450301Z",
     "start_time": "2023-06-07T20:42:37.418339682Z"
    }
   }
  },
  {
   "cell_type": "code",
   "execution_count": 15,
   "outputs": [
    {
     "ename": "FileNotFoundError",
     "evalue": "[Errno 2] No such file or directory: 'data_processed/ltdb/14046_processed.hea'",
     "output_type": "error",
     "traceback": [
      "\u001B[0;31m---------------------------------------------------------------------------\u001B[0m",
      "\u001B[0;31mFileNotFoundError\u001B[0m                         Traceback (most recent call last)",
      "Cell \u001B[0;32mIn [15], line 38\u001B[0m\n\u001B[1;32m     35\u001B[0m \u001B[38;5;66;03m# Same folder structure for processed data as it is for original\u001B[39;00m\n\u001B[1;32m     36\u001B[0m saving_dir \u001B[38;5;241m=\u001B[39m os\u001B[38;5;241m.\u001B[39mpath\u001B[38;5;241m.\u001B[39mjoin(preprocessed_dir, database)\n\u001B[0;32m---> 38\u001B[0m \u001B[43mwfdb\u001B[49m\u001B[38;5;241;43m.\u001B[39;49m\u001B[43mwrsamp\u001B[49m\u001B[43m(\u001B[49m\u001B[43mrecord_name\u001B[49m\u001B[38;5;241;43m=\u001B[39;49m\u001B[43mrecord_name\u001B[49m\u001B[43m \u001B[49m\u001B[38;5;241;43m+\u001B[39;49m\u001B[43m \u001B[49m\u001B[38;5;124;43m\"\u001B[39;49m\u001B[38;5;124;43m_processed\u001B[39;49m\u001B[38;5;124;43m\"\u001B[39;49m\u001B[43m,\u001B[49m\u001B[43m \u001B[49m\u001B[43mfs\u001B[49m\u001B[38;5;241;43m=\u001B[39;49m\u001B[43mfs_target\u001B[49m\u001B[43m,\u001B[49m\u001B[43m \u001B[49m\u001B[43munits\u001B[49m\u001B[38;5;241;43m=\u001B[39;49m\u001B[43mrecord\u001B[49m\u001B[38;5;241;43m.\u001B[39;49m\u001B[43munits\u001B[49m\u001B[43m,\u001B[49m\n\u001B[1;32m     39\u001B[0m \u001B[43m            \u001B[49m\u001B[43msig_name\u001B[49m\u001B[38;5;241;43m=\u001B[39;49m\u001B[43m[\u001B[49m\u001B[38;5;124;43m'\u001B[39;49m\u001B[38;5;124;43mECG CH1\u001B[39;49m\u001B[38;5;124;43m'\u001B[39;49m\u001B[43m,\u001B[49m\u001B[43m \u001B[49m\u001B[38;5;124;43m'\u001B[39;49m\u001B[38;5;124;43mECG CH2\u001B[39;49m\u001B[38;5;124;43m'\u001B[39;49m\u001B[43m]\u001B[49m\u001B[43m,\u001B[49m\u001B[43m \u001B[49m\u001B[43mp_signal\u001B[49m\u001B[38;5;241;43m=\u001B[39;49m\u001B[43msignal\u001B[49m\u001B[43m,\u001B[49m\u001B[43m \u001B[49m\u001B[43mfmt\u001B[49m\u001B[38;5;241;43m=\u001B[39;49m\u001B[43mfmt\u001B[49m\u001B[43m,\u001B[49m\n\u001B[1;32m     40\u001B[0m \u001B[43m            \u001B[49m\u001B[43mwrite_dir\u001B[49m\u001B[38;5;241;43m=\u001B[39;49m\u001B[43msaving_dir\u001B[49m\u001B[43m)\u001B[49m\n\u001B[1;32m     42\u001B[0m wfdb\u001B[38;5;241m.\u001B[39mwrann(record_name \u001B[38;5;241m+\u001B[39m \u001B[38;5;124m\"\u001B[39m\u001B[38;5;124m_processed\u001B[39m\u001B[38;5;124m\"\u001B[39m, extension\u001B[38;5;241m=\u001B[39m\u001B[38;5;124m'\u001B[39m\u001B[38;5;124matr\u001B[39m\u001B[38;5;124m'\u001B[39m, sample\u001B[38;5;241m=\u001B[39mannotations\u001B[38;5;241m.\u001B[39msample,\n\u001B[1;32m     43\u001B[0m            symbol\u001B[38;5;241m=\u001B[39mannotations\u001B[38;5;241m.\u001B[39msymbol, fs\u001B[38;5;241m=\u001B[39mfs_target,\n\u001B[1;32m     44\u001B[0m            write_dir\u001B[38;5;241m=\u001B[39msaving_dir)\n",
      "File \u001B[0;32m~/.local/lib/python3.10/site-packages/wfdb/io/record.py:2968\u001B[0m, in \u001B[0;36mwrsamp\u001B[0;34m(record_name, fs, units, sig_name, p_signal, d_signal, fmt, adc_gain, baseline, comments, base_time, base_date, base_datetime, write_dir)\u001B[0m\n\u001B[1;32m   2966\u001B[0m record\u001B[38;5;241m.\u001B[39mset_defaults()\n\u001B[1;32m   2967\u001B[0m \u001B[38;5;66;03m# Write the record files - header and associated dat\u001B[39;00m\n\u001B[0;32m-> 2968\u001B[0m \u001B[43mrecord\u001B[49m\u001B[38;5;241;43m.\u001B[39;49m\u001B[43mwrsamp\u001B[49m\u001B[43m(\u001B[49m\u001B[43mwrite_dir\u001B[49m\u001B[38;5;241;43m=\u001B[39;49m\u001B[43mwrite_dir\u001B[49m\u001B[43m)\u001B[49m\n",
      "File \u001B[0;32m~/.local/lib/python3.10/site-packages/wfdb/io/record.py:935\u001B[0m, in \u001B[0;36mRecord.wrsamp\u001B[0;34m(self, expanded, write_dir)\u001B[0m\n\u001B[1;32m    931\u001B[0m     \u001B[38;5;28mself\u001B[39m\u001B[38;5;241m.\u001B[39mchecksum \u001B[38;5;241m=\u001B[39m checksums\n\u001B[1;32m    933\u001B[0m \u001B[38;5;66;03m# Perform field validity and cohesion checks, and write the\u001B[39;00m\n\u001B[1;32m    934\u001B[0m \u001B[38;5;66;03m# header file.\u001B[39;00m\n\u001B[0;32m--> 935\u001B[0m \u001B[38;5;28;43mself\u001B[39;49m\u001B[38;5;241;43m.\u001B[39;49m\u001B[43mwrheader\u001B[49m\u001B[43m(\u001B[49m\u001B[43mwrite_dir\u001B[49m\u001B[38;5;241;43m=\u001B[39;49m\u001B[43mwrite_dir\u001B[49m\u001B[43m,\u001B[49m\u001B[43m \u001B[49m\u001B[43mexpanded\u001B[49m\u001B[38;5;241;43m=\u001B[39;49m\u001B[43mexpanded\u001B[49m\u001B[43m)\u001B[49m\n\u001B[1;32m    936\u001B[0m \u001B[38;5;28;01mif\u001B[39;00m \u001B[38;5;28mself\u001B[39m\u001B[38;5;241m.\u001B[39mn_sig \u001B[38;5;241m>\u001B[39m \u001B[38;5;241m0\u001B[39m:\n\u001B[1;32m    937\u001B[0m     \u001B[38;5;66;03m# Perform signal validity and cohesion checks, and write the\u001B[39;00m\n\u001B[1;32m    938\u001B[0m     \u001B[38;5;66;03m# associated dat files.\u001B[39;00m\n\u001B[1;32m    939\u001B[0m     \u001B[38;5;28mself\u001B[39m\u001B[38;5;241m.\u001B[39mwr_dats(expanded\u001B[38;5;241m=\u001B[39mexpanded, write_dir\u001B[38;5;241m=\u001B[39mwrite_dir)\n",
      "File \u001B[0;32m~/.local/lib/python3.10/site-packages/wfdb/io/_header.py:328\u001B[0m, in \u001B[0;36mHeaderMixin.wrheader\u001B[0;34m(self, write_dir, expanded)\u001B[0m\n\u001B[1;32m    325\u001B[0m \u001B[38;5;28mself\u001B[39m\u001B[38;5;241m.\u001B[39mcheck_field_cohesion(rec_write_fields, \u001B[38;5;28mlist\u001B[39m(sig_write_fields))\n\u001B[1;32m    327\u001B[0m \u001B[38;5;66;03m# Write the header file using the specified fields\u001B[39;00m\n\u001B[0;32m--> 328\u001B[0m \u001B[38;5;28;43mself\u001B[39;49m\u001B[38;5;241;43m.\u001B[39;49m\u001B[43mwr_header_file\u001B[49m\u001B[43m(\u001B[49m\u001B[43mrec_write_fields\u001B[49m\u001B[43m,\u001B[49m\u001B[43m \u001B[49m\u001B[43msig_write_fields\u001B[49m\u001B[43m,\u001B[49m\u001B[43m \u001B[49m\u001B[43mwrite_dir\u001B[49m\u001B[43m)\u001B[49m\n",
      "File \u001B[0;32m~/.local/lib/python3.10/site-packages/wfdb/io/_header.py:585\u001B[0m, in \u001B[0;36mHeaderMixin.wr_header_file\u001B[0;34m(self, rec_write_fields, sig_write_fields, write_dir)\u001B[0m\n\u001B[1;32m    582\u001B[0m     comment_lines \u001B[38;5;241m=\u001B[39m [\u001B[38;5;124m\"\u001B[39m\u001B[38;5;124m# \u001B[39m\u001B[38;5;124m\"\u001B[39m \u001B[38;5;241m+\u001B[39m comment \u001B[38;5;28;01mfor\u001B[39;00m comment \u001B[38;5;129;01min\u001B[39;00m \u001B[38;5;28mself\u001B[39m\u001B[38;5;241m.\u001B[39mcomments]\n\u001B[1;32m    583\u001B[0m     header_lines \u001B[38;5;241m+\u001B[39m\u001B[38;5;241m=\u001B[39m comment_lines\n\u001B[0;32m--> 585\u001B[0m \u001B[43mutil\u001B[49m\u001B[38;5;241;43m.\u001B[39;49m\u001B[43mlines_to_file\u001B[49m\u001B[43m(\u001B[49m\u001B[38;5;28;43mself\u001B[39;49m\u001B[38;5;241;43m.\u001B[39;49m\u001B[43mrecord_name\u001B[49m\u001B[43m \u001B[49m\u001B[38;5;241;43m+\u001B[39;49m\u001B[43m \u001B[49m\u001B[38;5;124;43m\"\u001B[39;49m\u001B[38;5;124;43m.hea\u001B[39;49m\u001B[38;5;124;43m\"\u001B[39;49m\u001B[43m,\u001B[49m\u001B[43m \u001B[49m\u001B[43mwrite_dir\u001B[49m\u001B[43m,\u001B[49m\u001B[43m \u001B[49m\u001B[43mheader_lines\u001B[49m\u001B[43m)\u001B[49m\n",
      "File \u001B[0;32m~/.local/lib/python3.10/site-packages/wfdb/io/util.py:28\u001B[0m, in \u001B[0;36mlines_to_file\u001B[0;34m(file_name, write_dir, lines)\u001B[0m\n\u001B[1;32m     10\u001B[0m \u001B[38;5;28;01mdef\u001B[39;00m \u001B[38;5;21mlines_to_file\u001B[39m(file_name: \u001B[38;5;28mstr\u001B[39m, write_dir: \u001B[38;5;28mstr\u001B[39m, lines: Sequence[\u001B[38;5;28mstr\u001B[39m]):\n\u001B[1;32m     11\u001B[0m     \u001B[38;5;124;03m\"\"\"\u001B[39;00m\n\u001B[1;32m     12\u001B[0m \u001B[38;5;124;03m    Write each line in a list of strings to a text file.\u001B[39;00m\n\u001B[1;32m     13\u001B[0m \n\u001B[0;32m   (...)\u001B[0m\n\u001B[1;32m     26\u001B[0m \n\u001B[1;32m     27\u001B[0m \u001B[38;5;124;03m    \"\"\"\u001B[39;00m\n\u001B[0;32m---> 28\u001B[0m     \u001B[38;5;28;01mwith\u001B[39;00m \u001B[38;5;28;43mopen\u001B[39;49m\u001B[43m(\u001B[49m\u001B[43mos\u001B[49m\u001B[38;5;241;43m.\u001B[39;49m\u001B[43mpath\u001B[49m\u001B[38;5;241;43m.\u001B[39;49m\u001B[43mjoin\u001B[49m\u001B[43m(\u001B[49m\u001B[43mwrite_dir\u001B[49m\u001B[43m,\u001B[49m\u001B[43m \u001B[49m\u001B[43mfile_name\u001B[49m\u001B[43m)\u001B[49m\u001B[43m,\u001B[49m\u001B[43m \u001B[49m\u001B[38;5;124;43m\"\u001B[39;49m\u001B[38;5;124;43mw\u001B[39;49m\u001B[38;5;124;43m\"\u001B[39;49m\u001B[43m,\u001B[49m\u001B[43m \u001B[49m\u001B[43mencoding\u001B[49m\u001B[38;5;241;43m=\u001B[39;49m\u001B[38;5;124;43m\"\u001B[39;49m\u001B[38;5;124;43mutf-8\u001B[39;49m\u001B[38;5;124;43m\"\u001B[39;49m\u001B[43m)\u001B[49m \u001B[38;5;28;01mas\u001B[39;00m f:\n\u001B[1;32m     29\u001B[0m         \u001B[38;5;28;01mfor\u001B[39;00m l \u001B[38;5;129;01min\u001B[39;00m lines:\n\u001B[1;32m     30\u001B[0m             f\u001B[38;5;241m.\u001B[39mwrite(\u001B[38;5;124mf\u001B[39m\u001B[38;5;124m\"\u001B[39m\u001B[38;5;132;01m{\u001B[39;00ml\u001B[38;5;132;01m}\u001B[39;00m\u001B[38;5;130;01m\\n\u001B[39;00m\u001B[38;5;124m\"\u001B[39m)\n",
      "\u001B[0;31mFileNotFoundError\u001B[0m: [Errno 2] No such file or directory: 'data_processed/ltdb/14046_processed.hea'"
     ]
    }
   ],
   "source": [
    "for database in databases:\n",
    "    database_path = os.path.join(databases_dir, database)\n",
    "\n",
    "    # LF a `RECORDS` file - contains the names of all the records in that database\n",
    "    records_file = os.path.join(database_path, \"RECORDS\")\n",
    "\n",
    "    with open(records_file, \"r\") as file:\n",
    "        record_names = file.read().splitlines()\n",
    "\n",
    "    for record_name in record_names:\n",
    "        record_path = os.path.join(database_path, record_name)\n",
    "\n",
    "        # Read the current record and its annotation\n",
    "        record = wfdb.rdrecord(record_path)\n",
    "        annotations = wfdb.rdann(record_path, \"atr\")\n",
    "\n",
    "        # No idea what these formats are but we'll save the original one\n",
    "        # as it is obligatory for creating new records (see wfdb.wrsamp())\n",
    "        fmt = record.fmt\n",
    "        sig_name = record.sig_name\n",
    "\n",
    "        # We want to resample all the records to a 200hz freq\n",
    "        fs_target = 200\n",
    "\n",
    "        # Resampling\n",
    "        resampled_signal, resampled_annotations = preprocessing_utils.resample_record_and_annotations(record, annotations, fs_target)\n",
    "        # Normalizing the signal between 0 and 1 and then centering it around 0\n",
    "        signal, annotations = preprocessing_utils.normalize_signal_and_center(resampled_signal), resampled_annotations\n",
    "        # Noise reduction, TODO: how smooth do we want it? check preprocessing_utils.py\n",
    "        # TODO: decide if we're using the fir filter\n",
    "        signal = preprocessing_utils.remove_noise_convolution(signal)\n",
    "        # Removing the baseline wander using wavelet transform\n",
    "        signal = preprocessing_utils.remove_baseline_wander_wavelets(signal)\n",
    "\n",
    "        # Same folder structure for processed data as it is for original\n",
    "        saving_dir = os.path.join(preprocessed_dir, database)\n",
    "\n",
    "        wfdb.wrsamp(record_name=record_name + \"_processed\", fs=fs_target, units=record.units,\n",
    "                    sig_name=['ECG CH1', 'ECG CH2'], p_signal=signal, fmt=fmt,\n",
    "                    write_dir=saving_dir)\n",
    "\n",
    "        wfdb.wrann(record_name + \"_processed\", extension='atr', sample=annotations.sample,\n",
    "                   symbol=annotations.symbol, fs=fs_target,\n",
    "                   write_dir=saving_dir)\n"
   ],
   "metadata": {
    "collapsed": false,
    "ExecuteTime": {
     "end_time": "2023-06-07T20:49:00.663659686Z",
     "start_time": "2023-06-07T20:42:37.827899276Z"
    }
   }
  },
  {
   "cell_type": "code",
   "execution_count": null,
   "outputs": [],
   "source": [],
   "metadata": {
    "collapsed": false
   }
  }
 ],
 "metadata": {
  "kernelspec": {
   "display_name": "Python 3",
   "language": "python",
   "name": "python3"
  },
  "language_info": {
   "codemirror_mode": {
    "name": "ipython",
    "version": 2
   },
   "file_extension": ".py",
   "mimetype": "text/x-python",
   "name": "python",
   "nbconvert_exporter": "python",
   "pygments_lexer": "ipython2",
   "version": "2.7.6"
  }
 },
 "nbformat": 4,
 "nbformat_minor": 0
}
