{
 "cells": [
  {
   "cell_type": "code",
   "execution_count": 10,
   "outputs": [],
   "source": [
    "# Implicit reloading of modules\n",
    "# (jupyter is acting weird and doesn't reimport stuff after you make changes)\n",
    "%load_ext autoreload\n",
    "%autoreload 2"
   ],
   "metadata": {
    "collapsed": false,
    "ExecuteTime": {
     "end_time": "2023-05-17T19:52:28.931532019Z",
     "start_time": "2023-05-17T19:52:28.848617708Z"
    }
   }
  },
  {
   "cell_type": "code",
   "execution_count": 11,
   "outputs": [],
   "source": [
    "# Public modules\n",
    "import os\n",
    "import wfdb\n",
    "import importlib\n",
    "\n",
    "# Custom modules\n",
    "import preprocessing_utils"
   ],
   "metadata": {
    "collapsed": false,
    "ExecuteTime": {
     "end_time": "2023-05-17T19:52:35.324729520Z",
     "start_time": "2023-05-17T19:52:30.820034779Z"
    }
   }
  },
  {
   "cell_type": "code",
   "execution_count": null,
   "outputs": [],
   "source": [
    "# Explicit reloading of modules\n",
    "importlib.reload(preprocessing_utils)"
   ],
   "metadata": {
    "collapsed": false
   }
  },
  {
   "cell_type": "code",
   "execution_count": 13,
   "outputs": [],
   "source": [
    "# List with the databases we're including in the preprocessing\n",
    "databases = ['vfdb/']\n",
    "# Path to original data directory\n",
    "databases_dir = \"data_original/\"\n",
    "preprocessed_dir = \"data_processed/\""
   ],
   "metadata": {
    "collapsed": false,
    "ExecuteTime": {
     "end_time": "2023-05-17T19:52:45.915206882Z",
     "start_time": "2023-05-17T19:52:45.810962786Z"
    }
   }
  },
  {
   "cell_type": "code",
   "execution_count": 16,
   "outputs": [
    {
     "name": "stdout",
     "output_type": "stream",
     "text": [
      "data_original/vfdb/418\n",
      "data_original/vfdb/419\n",
      "data_original/vfdb/420\n",
      "data_original/vfdb/421\n",
      "data_original/vfdb/422\n",
      "data_original/vfdb/423\n",
      "data_original/vfdb/424\n",
      "data_original/vfdb/425\n",
      "data_original/vfdb/426\n",
      "data_original/vfdb/427\n",
      "data_original/vfdb/428\n",
      "data_original/vfdb/429\n",
      "data_original/vfdb/430\n",
      "data_original/vfdb/602\n",
      "data_original/vfdb/605\n",
      "data_original/vfdb/607\n",
      "data_original/vfdb/609\n",
      "data_original/vfdb/610\n",
      "data_original/vfdb/611\n",
      "data_original/vfdb/612\n",
      "data_original/vfdb/614\n",
      "data_original/vfdb/615\n"
     ]
    }
   ],
   "source": [
    "for database in databases:\n",
    "    database_path = os.path.join(databases_dir, database)\n",
    "\n",
    "    # LF a `RECORDS` file - contains the names of all the records in that database\n",
    "    records_file = os.path.join(database_path, \"RECORDS\")\n",
    "\n",
    "    with open(records_file, \"r\") as file:\n",
    "        record_names = file.read().splitlines()\n",
    "\n",
    "    for record_name in record_names:\n",
    "        record_path = os.path.join(database_path, record_name)\n",
    "\n",
    "        # TODO: preprocessing with every file or whatever\n",
    "        # print(record_path)\n",
    "\n",
    "        # Read the current record and its annotation\n",
    "        record = wfdb.rdrecord(record_path)\n",
    "        annotations = wfdb.rdann(record_path, \"atr\")\n",
    "\n",
    "        # No idea what these formats are but we'll save the original one\n",
    "        # as it is obligatory for creating new records (see wfdb.wrsamp())\n",
    "        fmt = record.fmt\n",
    "        sig_name = record.sig_name\n",
    "\n",
    "        # We want to resample all the records to a 200hz freq\n",
    "        fs_target = 200\n",
    "\n",
    "        resampled_signal, resampled_annotations = preprocessing_utils.resample_record_and_annotations(record, annotations, fs_target)\n",
    "\n",
    "        wfdb.wrsamp(record_name=record_name + \"_processed\", fs=fs_target, units=record.units,\n",
    "                    sig_name=['ECG CH1', 'ECG CH 2'], p_signal=resampled_signal, fmt=fmt,\n",
    "                    write_dir=preprocessed_dir)\n",
    "\n",
    "        wfdb.wrann(record_name + \"_processed\", extension='atr', sample=resampled_annotations.sample,\n",
    "                   symbol=resampled_annotations.symbol,\n",
    "                   write_dir=preprocessed_dir)\n"
   ],
   "metadata": {
    "collapsed": false,
    "ExecuteTime": {
     "end_time": "2023-05-17T19:55:06.605509434Z",
     "start_time": "2023-05-17T19:55:02.492297684Z"
    }
   }
  },
  {
   "cell_type": "code",
   "execution_count": null,
   "outputs": [],
   "source": [],
   "metadata": {
    "collapsed": false
   }
  }
 ],
 "metadata": {
  "kernelspec": {
   "display_name": "Python 3",
   "language": "python",
   "name": "python3"
  },
  "language_info": {
   "codemirror_mode": {
    "name": "ipython",
    "version": 2
   },
   "file_extension": ".py",
   "mimetype": "text/x-python",
   "name": "python",
   "nbconvert_exporter": "python",
   "pygments_lexer": "ipython2",
   "version": "2.7.6"
  }
 },
 "nbformat": 4,
 "nbformat_minor": 0
}
