{
 "cells": [
  {
   "cell_type": "code",
   "execution_count": 1,
   "outputs": [],
   "source": [
    "# Implicit reloading of modules\n",
    "# (jupyter is acting weird and doesn't reimport stuff after you make changes)\n",
    "%load_ext autoreload\n",
    "%autoreload 2"
   ],
   "metadata": {
    "collapsed": false,
    "ExecuteTime": {
     "end_time": "2023-06-14T01:13:30.833612490Z",
     "start_time": "2023-06-14T01:13:30.815330097Z"
    }
   }
  },
  {
   "cell_type": "code",
   "execution_count": 2,
   "outputs": [],
   "source": [
    "# Public modules\n",
    "import os\n",
    "import wfdb\n",
    "import importlib\n",
    "import numpy as np\n",
    "\n",
    "# Custom modules\n",
    "import preprocessing_utils"
   ],
   "metadata": {
    "collapsed": false,
    "ExecuteTime": {
     "end_time": "2023-06-14T01:13:32.203709358Z",
     "start_time": "2023-06-14T01:13:30.834539215Z"
    }
   }
  },
  {
   "cell_type": "code",
   "execution_count": 3,
   "outputs": [
    {
     "data": {
      "text/plain": "<module 'preprocessing_utils' from '/media/minx/Data/KDE_Home/Documents/Projects/arrhythmia-detection/preprocessing_utils.py'>"
     },
     "execution_count": 3,
     "metadata": {},
     "output_type": "execute_result"
    }
   ],
   "source": [
    "# Explicit reloading of modules\n",
    "importlib.reload(preprocessing_utils)"
   ],
   "metadata": {
    "collapsed": false,
    "ExecuteTime": {
     "end_time": "2023-06-14T01:13:32.309562463Z",
     "start_time": "2023-06-14T01:13:32.204276418Z"
    }
   }
  },
  {
   "cell_type": "code",
   "execution_count": 4,
   "outputs": [],
   "source": [
    "# List with the databases we're including in the preprocessing\n",
    "databases = ['vfdb/', 'mitdb/', 'nsrdb/', 'svdb/', 'ltdb/']\n",
    "# Path to original data directory\n",
    "databases_dir = \"data_original/\"\n",
    "preprocessed_dir = \"data_processed/\""
   ],
   "metadata": {
    "collapsed": false,
    "ExecuteTime": {
     "end_time": "2023-06-14T01:13:35.113873813Z",
     "start_time": "2023-06-14T01:13:35.010562089Z"
    }
   }
  },
  {
   "cell_type": "code",
   "execution_count": null,
   "outputs": [],
   "source": [
    "for database in databases:\n",
    "    database_path = os.path.join(databases_dir, database)\n",
    "\n",
    "    # LF a `RECORDS` file - contains the names of all the records in that database\n",
    "    records_file = os.path.join(database_path, \"RECORDS\")\n",
    "\n",
    "    with open(records_file, \"r\") as file:\n",
    "        record_names = file.read().splitlines()\n",
    "\n",
    "    for record_name in record_names:\n",
    "        record_path = os.path.join(database_path, record_name)\n",
    "\n",
    "        # Read the current record and its annotation\n",
    "        record = wfdb.rdrecord(record_path)\n",
    "        annotations = wfdb.rdann(record_path, \"atr\")\n",
    "\n",
    "        # No idea what these formats are but we'll save the original one\n",
    "        # as it is obligatory for creating new records (see wfdb.wrsamp())\n",
    "        fmt = record.fmt\n",
    "        sig_name = record.sig_name\n",
    "\n",
    "        print(\"Processing file: \", record_path, \", fmt: \", fmt, \", n_signal: \", record.n_sig)\n",
    "\n",
    "        # We want to resample all the records to a 200hz freq\n",
    "        fs_target = 200\n",
    "\n",
    "        # Resampling\n",
    "        resampled_signal, resampled_annotations = preprocessing_utils.resample_record_and_annotations(record, annotations, fs_target)\n",
    "        # Normalizing the signal between 0 and 1 and then centering it around 0\n",
    "        signal, annotations = preprocessing_utils.normalize_signal_and_center(resampled_signal), resampled_annotations\n",
    "\n",
    "        # Noise reduction, TODO: decide if we're using the fir filter or convolution\n",
    "        #signal = preprocessing_utils.cutoff_freqs_fir_filter(signal)\n",
    "        signal = preprocessing_utils.remove_noise_convolution(signal)\n",
    "\n",
    "        # Removing the baseline wander using wavelet transform\n",
    "        signal = preprocessing_utils.remove_baseline_wander_wavelets(signal)\n",
    "\n",
    "        # Same folder structure for processed data as it is for original\n",
    "        saving_dir = os.path.join(preprocessed_dir, database)\n",
    "\n",
    "        wfdb.wrsamp(record_name=record_name + \"_processed\", fs=fs_target, units=record.units,\n",
    "                    sig_name=['ECG CH1', 'ECG CH2'], p_signal=signal, fmt=fmt,\n",
    "                    write_dir=saving_dir)\n",
    "\n",
    "        wfdb.wrann(record_name + \"_processed\", extension='atr', sample=annotations.sample,\n",
    "                   symbol=annotations.symbol, fs=fs_target,\n",
    "                   write_dir=saving_dir)\n"
   ],
   "metadata": {
    "collapsed": false
   }
  }
 ],
 "metadata": {
  "kernelspec": {
   "display_name": "Python 3",
   "language": "python",
   "name": "python3"
  },
  "language_info": {
   "codemirror_mode": {
    "name": "ipython",
    "version": 2
   },
   "file_extension": ".py",
   "mimetype": "text/x-python",
   "name": "python",
   "nbconvert_exporter": "python",
   "pygments_lexer": "ipython2",
   "version": "2.7.6"
  }
 },
 "nbformat": 4,
 "nbformat_minor": 0
}
