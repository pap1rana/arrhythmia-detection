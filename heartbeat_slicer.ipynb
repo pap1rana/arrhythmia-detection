{
 "cells": [
  {
   "cell_type": "code",
   "execution_count": 31,
   "metadata": {
    "collapsed": true,
    "ExecuteTime": {
     "end_time": "2023-06-12T19:19:00.047694897Z",
     "start_time": "2023-06-12T19:19:00.002722730Z"
    }
   },
   "outputs": [],
   "source": [
    "import wfdb\n",
    "import numpy as np\n",
    "from wfdb import processing"
   ]
  },
  {
   "cell_type": "code",
   "execution_count": 68,
   "outputs": [],
   "source": [
    "class HeartbeatSlicer:\n",
    "    def __init__(self, record_path, sampfrom=0, sampto=None, num_heartbeats=3):\n",
    "        self.record = wfdb.rdrecord(record_name=record_path, sampfrom=sampfrom, sampto=sampto)\n",
    "        self.annotations = wfdb.rdann(record_name=record_path, extension='atr', sampfrom=sampfrom, sampto=sampto, shift_samps=True)\n",
    "        self.ann_symbols = self.annotations.symbol\n",
    "        self.ecg_data = self.record.p_signal[:, 0]\n",
    "        self.sampling_rate = self.record.fs\n",
    "        self.peak_indices = self.detect_peaks()\n",
    "        self.num_heartbeats = num_heartbeats\n",
    "        self.label_dict = {\n",
    "         # Normal Beats (Non-Arrhythmia):\n",
    "            #     N: Normal beat\n",
    "            #     /: Paced beat (This is considered normal when a patient has a pacemaker)\n",
    "        'N': 0, '/': 0,\n",
    "\n",
    "        # Supraventricular Arrhythmias:\n",
    "            #     A: Atrial premature beat\n",
    "            #     a: Aberrated atrial premature beat\n",
    "            #     S: Supraventricular premature or ectopic beat (atrial or nodal)\n",
    "            #     e: Atrial escape beat\n",
    "            #     n: Supraventricular escape beat (atrial or nodal)\n",
    "        'A': 1, 'a': 1, 'S': 1, 'e': 1, 'n': 1,\n",
    "\n",
    "        # Ventricular Arrhythmias:\n",
    "            #     V: Premature ventricular contraction\n",
    "            #     r: R-on-T premature ventricular contraction\n",
    "            #     E: Ventricular escape beat\n",
    "            #     F: Fusion of ventricular and normal beat\n",
    "        'V': 2, 'r': 2, 'E': 2, 'F': 2,\n",
    "\n",
    "        # Conduction Problems (Bundle Branch Blocks):\n",
    "            #     L: Left bundle branch block beat\n",
    "            #     R: Right bundle branch block beat\n",
    "            #     B: Bundle branch block beat (unspecified)\n",
    "        'L': 3, 'R': 3, 'B': 3,\n",
    "\n",
    "        # Junctional Rhythms:\n",
    "            #     J: Nodal (junctional) premature beat\n",
    "            #     j: Nodal (junctional) escape beat\n",
    "        'J': 4, 'j': 4,\n",
    "        # Paced Rhythms:\n",
    "            #     f: Fusion of paced and normal beat\n",
    "        'f': 5,\n",
    "        # Unclassifiable/Other Beats:\n",
    "            #     Q: Unclassifiable beat\n",
    "            #     ?: Beat not classified during learning\n",
    "        'Q': 6, '?': 6}\n",
    "\n",
    "\n",
    "    def detect_peaks(self):\n",
    "        \"\"\"\n",
    "        Detects peaks in the ECG data.\n",
    "\n",
    "        Returns: numpy array with the indices of peaks.\n",
    "        \"\"\"\n",
    "\n",
    "        # peak_indices = processing.gqrs_detect(sig=self.ecg_data, fs=self.sampling_rate)\n",
    "\n",
    "        peak_indices = self.annotations.sample\n",
    "\n",
    "        return np.array(peak_indices, dtype=object)\n",
    "\n",
    "    def slice_heartbeats(self):\n",
    "        \"\"\"\n",
    "        Slice the ECG data into sequences of a fixed number of consecutive heartbeats.\n",
    "\n",
    "        num_heartbeats : The number of consecutive heartbeats to include in each sequence.\n",
    "\n",
    "        Returns: 2D numpy array, each row is a sequence of heartbeats.\n",
    "        \"\"\"\n",
    "        heartbeats = []\n",
    "\n",
    "        for i in range(self.num_heartbeats, len(self.peak_indices)-self.num_heartbeats):\n",
    "            start = self.peak_indices[i] - (self.peak_indices[i] - self.peak_indices[i-self.num_heartbeats])//2\n",
    "            end = self.peak_indices[i] +  (self.peak_indices[i+self.num_heartbeats] - self.peak_indices[i])//2\n",
    "            sequence = self.ecg_data[start:end]\n",
    "\n",
    "            heartbeats.append(sequence)\n",
    "\n",
    "        return np.array(heartbeats, dtype=object)\n",
    "        # return heartbeats\n",
    "\n",
    "\n",
    "    def annotate_heartbeats(self):\n",
    "        \"\"\"\n",
    "        Annotates the heartbeats obtained from the slice_heartbeats() method. It assigns labels to each heartbeat based on the provided label dictionary. The labels are added to the heartbeats array as a new column.\n",
    "\n",
    "        Returns: numpy.ndarray: The annotated heartbeats array with the labels added as a new column.\n",
    "\n",
    "        \"\"\"\n",
    "        heartbeats = self.slice_heartbeats()\n",
    "\n",
    "        anns = list(map(lambda x: self.label_dict.get(x, x), self.ann_symbols[self.num_heartbeats:-self.num_heartbeats]))\n",
    "\n",
    "        return np.column_stack((heartbeats, anns))\n",
    "\n",
    "\n"
   ],
   "metadata": {
    "collapsed": false,
    "ExecuteTime": {
     "end_time": "2023-06-12T19:56:33.155223714Z",
     "start_time": "2023-06-12T19:56:33.146382317Z"
    }
   }
  },
  {
   "cell_type": "code",
   "execution_count": 69,
   "outputs": [],
   "source": [
    "testMitdb = HeartbeatSlicer(\"data_processed/mitdb/100_processed\").annotate_heartbeats()\n",
    "testNsrb = HeartbeatSlicer(\"data_processed/nsrdb/16265_processed\").annotate_heartbeats()\n",
    "testSvdb = HeartbeatSlicer(\"data_processed/svdb/800_processed\").annotate_heartbeats()"
   ],
   "metadata": {
    "collapsed": false,
    "ExecuteTime": {
     "end_time": "2023-06-12T19:56:35.779218540Z",
     "start_time": "2023-06-12T19:56:33.748101496Z"
    }
   }
  },
  {
   "cell_type": "code",
   "execution_count": 70,
   "outputs": [],
   "source": [
    "from matplotlib import pyplot as plt"
   ],
   "metadata": {
    "collapsed": false,
    "ExecuteTime": {
     "end_time": "2023-06-12T19:56:35.784659907Z",
     "start_time": "2023-06-12T19:56:35.782129050Z"
    }
   }
  },
  {
   "cell_type": "code",
   "execution_count": 71,
   "outputs": [
    {
     "data": {
      "text/plain": "<Figure size 640x480 with 1 Axes>",
      "image/png": "[encoded data removed]"
     },
     "metadata": {},
     "output_type": "display_data"
    }
   ],
   "source": [
    "# plt.plot(testMitdb[233][0])\n",
    "# plt.title(testMitdb[35][1])\n",
    "# plt.show()\n",
    "\n",
    "# for (signal, ann) in testNsrb:\n",
    "#     if not isinstance(ann, int):\n",
    "#         plt.plot(signal)\n",
    "#         plt.title(ann)\n",
    "#         plt.show()\n",
    "\n",
    "\n",
    "\n",
    "# plt.plot(testSvdb[1001][0])\n",
    "# plt.title(testSvdb[35][1])\n",
    "# plt.show()\n",
    "#\n",
    "# plt.plot(testNsrb[727][0])\n",
    "# plt.title(testNsrb[35][1])\n",
    "# plt.show()"
   ],
   "metadata": {
    "collapsed": false,
    "ExecuteTime": {
     "end_time": "2023-06-12T19:56:36.084978290Z",
     "start_time": "2023-06-12T19:56:35.786963833Z"
    }
   }
  },
  {
   "cell_type": "code",
   "execution_count": 60,
   "outputs": [
    {
     "data": {
      "text/plain": "array([-0.01220739, -0.01600969, -0.02121284, -0.02621587, -0.02761672,\n       -0.02021224,  0.00060036,  0.03722254,  0.08545174,  0.13508179,\n        0.1721042 ,  0.18551232,  0.17130372,  0.13448142,  0.08625222,\n        0.03982411,  0.00500303, -0.01460885, -0.02181321, -0.02201333,\n       -0.02041236, -0.01941175, -0.01921163, -0.01961187, -0.02021224,\n       -0.02061248, -0.0208126 , -0.02061248, -0.02041236, -0.02041236,\n       -0.02041236, -0.02061248, -0.02101272, -0.02141296, -0.02181321,\n       -0.02221345, -0.02241357, -0.02241357, -0.02221345, -0.02161309,\n       -0.02101272, -0.02041236, -0.02001212, -0.01961187, -0.01921163,\n       -0.01901151, -0.01901151, -0.01881139, -0.01901151, -0.01921163,\n       -0.01961187, -0.02021224, -0.0208126 , -0.02141296, -0.02221345,\n       -0.02301393, -0.02381442, -0.0246149 , -0.02561551, -0.02661612,\n       -0.02761672, -0.02861733, -0.02961793, -0.03061854, -0.03141902,\n       -0.03221951, -0.03261975, -0.03261975, -0.03201939, -0.03041842,\n       -0.02801696, -0.0246149 , -0.02061248, -0.01600969, -0.01140691,\n       -0.00740448, -0.00400242, -0.00120073,  0.00060036,  0.00200121,\n        0.0028017 ,  0.00340206,  0.0038023 ,  0.00400242,  0.00420254,\n        0.00420254,  0.00420254,  0.00420254,  0.00420254,  0.00440267,\n        0.00460279,  0.00500303,  0.00520315,  0.00540327,  0.00520315,\n        0.00500303,  0.00440267,  0.0038023 ,  0.00320194,  0.00240145,\n        0.00160097,  0.00080048,  0.00020012, -0.00040024, -0.00080048,\n       -0.00120073, -0.00120073, -0.00100061, -0.00100061, -0.00080048,\n       -0.00080048, -0.00080048, -0.00120073, -0.00160097, -0.00220133,\n       -0.00240145, -0.00240145, -0.00220133, -0.00180109, -0.00160097,\n       -0.00120073, -0.00120073, -0.00140085, -0.00140085, -0.00160097,\n       -0.00140085, -0.00100061, -0.00060036, -0.00020012,  0.00020012,\n        0.00060036,  0.00160097,  0.00320194,  0.00540327,  0.00800485,\n        0.01100666,  0.0142086 ,  0.01721042,  0.01961187,  0.02161309,\n        0.02301393,  0.0236143 ,  0.02341418,  0.02261369,  0.02201333,\n        0.02161309,  0.02141296,  0.0208126 ,  0.01961187,  0.01721042,\n        0.01400848,  0.01000606,  0.00600364,  0.00260158,  0.00020012,\n       -0.00180109, -0.00340206, -0.00440267, -0.00540327, -0.00620376,\n       -0.00700424, -0.0076046 , -0.00860521, -0.0104063 , -0.01400848,\n       -0.01901151, -0.02401454, -0.02561551, -0.01821103,  0.00360218,\n        0.04182532,  0.08965428,  0.1332807 ,  0.15869609,  0.15809572,\n        0.13268033,  0.09145537,  0.04742872,  0.01240751, -0.00740448,\n       -0.01400848, -0.01380836, -0.01300788, -0.01300788, -0.013208  ,\n       -0.01380836, -0.01440872, -0.01500909, -0.01560945, -0.01620981,\n       -0.01661006, -0.0170103 , -0.01721042, -0.01721042, -0.01721042,\n       -0.01721042, -0.01681018, -0.01620981, -0.01560945, -0.01480897,\n       -0.0142086 , -0.01380836, -0.01400848, -0.01440872, -0.01520921,\n       -0.01600969, -0.01640994, -0.01681018, -0.01661006, -0.01640994,\n       -0.01580957, -0.01520921, -0.01440872, -0.01380836, -0.013208  ,\n       -0.01280775, -0.01260763, -0.01300788, -0.01360824, -0.01440872,\n       -0.01540933, -0.01640994, -0.0170103 , -0.01761066, -0.01801091,\n       -0.01821103, -0.01821103, -0.01761066, -0.01640994, -0.01440872,\n       -0.01160703, -0.00820497, -0.00480291, -0.00120073,  0.00180109,\n        0.00420254,  0.00620376,  0.0076046 ,  0.00860521,  0.00940569,\n        0.00960582,  0.00960582,  0.00920557,  0.00900545,  0.00860521,\n        0.00820497,  0.00820497,  0.00820497,  0.00820497,  0.00800485,\n        0.0076046 ,  0.00680412,  0.00580351,  0.00460279,  0.00360218,\n        0.00260158,  0.00160097,  0.00080048, -0.00020012, -0.00080048,\n       -0.00140085, -0.00180109, -0.00220133, -0.00220133, -0.00240145,\n       -0.0028017 , -0.00320194, -0.0038023 , -0.00440267, -0.00480291,\n       -0.00500303, -0.00480291, -0.00440267, -0.00400242, -0.00340206,\n       -0.0028017 , -0.00260158, -0.00260158, -0.00300182, -0.00340206,\n       -0.0038023 , -0.00440267, -0.00440267, -0.00440267, -0.00400242,\n       -0.00320194, -0.00200121, -0.00040024,  0.00160097,  0.00400242,\n        0.00640388,  0.00880533,  0.01120679,  0.01340812,  0.01520921,\n        0.01661006,  0.01761066,  0.01781078,  0.01761066,  0.01721042,\n        0.01681018,  0.01681018,  0.01681018,  0.01620981,  0.01480897,\n        0.01180715,  0.0076046 ,  0.0028017 , -0.00180109, -0.00580351,\n       -0.00860521, -0.0104063 , -0.01140691, -0.01200727, -0.01240751,\n       -0.01280775, -0.013208  , -0.01400848, -0.01520921, -0.01761066,\n       -0.02141296, -0.02681624, -0.03362036, -0.0406246 , -0.04502726,\n       -0.04322617, -0.03001818, -0.00160097,  0.04102484,  0.08925404,\n        0.1294784 ,  0.14889015,  0.14268639,  0.11406907,  0.07324435,\n        0.03241963,  0.00200121, -0.01360824, -0.01781078, -0.01721042,\n       -0.01620981, -0.01620981, -0.01661006, -0.01681018, -0.01721042,\n       -0.01741054, -0.01741054, -0.01721042, -0.01681018, -0.01640994,\n       -0.01620981, -0.01600969, -0.01600969, -0.01600969, -0.01580957,\n       -0.01560945, -0.01500909, -0.01440872, -0.01400848, -0.01360824,\n       -0.01340812, -0.013208  , -0.013208  , -0.01300788, -0.01300788,\n       -0.01280775, -0.01280775, -0.01260763, -0.01260763, -0.01240751,\n       -0.01220739, -0.01200727, -0.01200727, -0.01180715, -0.01180715,\n       -0.01180715, -0.01200727, -0.01200727, -0.01200727, -0.01200727,\n       -0.01180715, -0.01180715, -0.01180715, -0.01180715, -0.01160703,\n       -0.01100666, -0.00960582, -0.0076046 , -0.00520315, -0.00220133,\n        0.00060036,  0.00340206,  0.00580351,  0.0076046 ,  0.00900545,\n        0.01000606,  0.0104063 ,  0.0104063 ,  0.01020618,  0.00980594,\n        0.00960582,  0.00940569,  0.00920557,  0.00920557,  0.00900545,\n        0.00860521,  0.00820497,  0.00780473,  0.00720436,  0.00680412,\n        0.00620376,  0.00540327,  0.00440267,  0.00360218,  0.0028017 ])"
     },
     "execution_count": 60,
     "metadata": {},
     "output_type": "execute_result"
    }
   ],
   "source": [
    "testMitdb[0][0]"
   ],
   "metadata": {
    "collapsed": false,
    "ExecuteTime": {
     "end_time": "2023-06-12T19:52:29.118894255Z",
     "start_time": "2023-06-12T19:52:29.065268724Z"
    }
   }
  },
  {
   "cell_type": "code",
   "execution_count": 61,
   "outputs": [
    {
     "data": {
      "text/plain": "(array([0, 1, 2], dtype=object), array([2234,   33,    1]))"
     },
     "execution_count": 61,
     "metadata": {},
     "output_type": "execute_result"
    }
   ],
   "source": [
    "np.unique(testMitdb[:, 1], return_counts=True)"
   ],
   "metadata": {
    "collapsed": false,
    "ExecuteTime": {
     "end_time": "2023-06-12T19:52:29.161811114Z",
     "start_time": "2023-06-12T19:52:29.107744299Z"
    }
   }
  },
  {
   "cell_type": "code",
   "execution_count": 46,
   "outputs": [
    {
     "data": {
      "text/plain": "(array(['0', '1', '2', '|', '~'], dtype=object),\n array([1840,   30,    7,   10,   28]))"
     },
     "execution_count": 46,
     "metadata": {},
     "output_type": "execute_result"
    }
   ],
   "source": [
    "np.unique(testSvdb[:, 1], return_counts=True)"
   ],
   "metadata": {
    "collapsed": false,
    "ExecuteTime": {
     "end_time": "2023-06-12T19:23:06.048320383Z",
     "start_time": "2023-06-12T19:23:06.044203909Z"
    }
   }
  },
  {
   "cell_type": "code",
   "execution_count": 47,
   "outputs": [
    {
     "data": {
      "text/plain": "(array(['0', '1', '2', '|', '~'], dtype=object),\n array([100211,      5,     22,    258,    453]))"
     },
     "execution_count": 47,
     "metadata": {},
     "output_type": "execute_result"
    }
   ],
   "source": [
    "np.unique(testNsrb[:, 1], return_counts=True)\n"
   ],
   "metadata": {
    "collapsed": false,
    "ExecuteTime": {
     "end_time": "2023-06-12T19:23:06.349260092Z",
     "start_time": "2023-06-12T19:23:06.301862651Z"
    }
   }
  },
  {
   "cell_type": "raw",
   "source": [],
   "metadata": {
    "collapsed": false
   }
  },
  {
   "cell_type": "code",
   "execution_count": null,
   "outputs": [],
   "source": [],
   "metadata": {
    "collapsed": false
   }
  }
 ],
 "metadata": {
  "kernelspec": {
   "display_name": "Python 3",
   "language": "python",
   "name": "python3"
  },
  "language_info": {
   "codemirror_mode": {
    "name": "ipython",
    "version": 2
   },
   "file_extension": ".py",
   "mimetype": "text/x-python",
   "name": "python",
   "nbconvert_exporter": "python",
   "pygments_lexer": "ipython2",
   "version": "2.7.6"
  }
 },
 "nbformat": 4,
 "nbformat_minor": 0
}
