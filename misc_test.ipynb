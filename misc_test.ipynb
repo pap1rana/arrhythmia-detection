{
 "cells": [
  {
   "cell_type": "code",
   "execution_count": 1,
   "outputs": [],
   "source": [
    "import json\n",
    "import os\n",
    "\n",
    "import pandas as pd\n",
    "import wfdb\n",
    "import ast"
   ],
   "metadata": {
    "collapsed": false,
    "ExecuteTime": {
     "end_time": "2023-06-15T03:10:42.642896302Z",
     "start_time": "2023-06-15T03:10:40.062908493Z"
    }
   }
  },
  {
   "cell_type": "markdown",
   "source": [
    "# Extracting all the class characters that appear in the databases we're potentially using"
   ],
   "metadata": {
    "collapsed": false
   }
  },
  {
   "cell_type": "code",
   "execution_count": null,
   "outputs": [],
   "source": [
    "databases = ['vfdb/', 'mitdb/', 'nsrdb/', 'svdb/', 'ltdb/']\n",
    "# Path to original data directory\n",
    "databases_dir = \"data_original/\"\n",
    "preprocessed_dir = \"data_processed/\""
   ],
   "metadata": {
    "collapsed": false
   }
  },
  {
   "cell_type": "code",
   "execution_count": null,
   "outputs": [],
   "source": [
    "classes_list = set()"
   ],
   "metadata": {
    "collapsed": false
   }
  },
  {
   "cell_type": "code",
   "execution_count": null,
   "outputs": [],
   "source": [
    "for database in databases:\n",
    "    database_path = os.path.join(databases_dir, database)\n",
    "\n",
    "    # LF a `RECORDS` file - contains the names of all the records in that database\n",
    "    records_file = os.path.join(database_path, \"RECORDS\")\n",
    "\n",
    "    with open(records_file, \"r\") as file:\n",
    "        record_names = file.read().splitlines()\n",
    "\n",
    "    for record_name in record_names:\n",
    "        record_path = os.path.join(database_path, record_name)\n",
    "\n",
    "        # Read the current record and its annotation\n",
    "        record = wfdb.rdrecord(record_path)\n",
    "        annotations = wfdb.rdann(record_path, \"atr\")\n",
    "\n",
    "        classes_list = classes_list.union(set(annotations.symbol))"
   ],
   "metadata": {
    "collapsed": false
   }
  },
  {
   "cell_type": "code",
   "execution_count": null,
   "outputs": [],
   "source": [
    "classes_list = list(classes_list)"
   ],
   "metadata": {
    "collapsed": false
   }
  },
  {
   "cell_type": "markdown",
   "source": [
    "# mitDB.csv research"
   ],
   "metadata": {
    "collapsed": false
   }
  },
  {
   "cell_type": "code",
   "execution_count": 17,
   "outputs": [],
   "source": [
    "import re\n",
    "import json"
   ],
   "metadata": {
    "collapsed": false,
    "ExecuteTime": {
     "end_time": "2023-06-15T14:26:33.243035712Z",
     "start_time": "2023-06-15T14:26:33.239235606Z"
    }
   }
  },
  {
   "cell_type": "code",
   "execution_count": 3,
   "outputs": [],
   "source": [
    "def fix_retarded_string(retarded_string):\n",
    "    string_data = retarded_string[1:-1]\n",
    "    string_data = (re.sub(r'\\s+', ',', string_data.replace(\"\\n\", \"\"))).replace(\"[,\", \"[\")\n",
    "\n",
    "    # Both of these work:\n",
    "    #return json.loads(string_data)\n",
    "    return ast.literal_eval(string_data)\n"
   ],
   "metadata": {
    "collapsed": false,
    "ExecuteTime": {
     "end_time": "2023-06-15T03:12:29.856245242Z",
     "start_time": "2023-06-15T03:12:29.850092740Z"
    }
   }
  },
  {
   "cell_type": "code",
   "execution_count": 4,
   "outputs": [],
   "source": [
    "df = pd.read_csv(\"../mitDB.csv\")"
   ],
   "metadata": {
    "collapsed": false,
    "ExecuteTime": {
     "end_time": "2023-06-15T03:12:36.681499582Z",
     "start_time": "2023-06-15T03:12:33.387802819Z"
    }
   }
  },
  {
   "cell_type": "code",
   "execution_count": 5,
   "outputs": [],
   "source": [
    "string = df['betti'][1]"
   ],
   "metadata": {
    "collapsed": false,
    "ExecuteTime": {
     "end_time": "2023-06-15T03:12:49.329117343Z",
     "start_time": "2023-06-15T03:12:49.284980342Z"
    }
   }
  },
  {
   "cell_type": "code",
   "execution_count": 6,
   "outputs": [
    {
     "data": {
      "text/plain": "'[[[379 369 335 279 216 187 169 154 141 132 128 122 111  98  87  83  75\\n    67  59  55  50  46  46  45  42  42  41  40  39  39  38  36  35  35\\n    35  34  32  31  29  28  26  25  25  24  22  19  18  18  18  18  18\\n    18  18  18  18  16  15  14  14  14  14  14  13  13  12  12  12  12\\n    10   9   9   9   9   9   9   9   9   9   9   8   8   7   7   7   7\\n     7   5   5   3   3   3   3   3   3   3   3   3   3   1   0]\\n  [  1   1   2   4   6   2   7   7   6   4   6   9   6   2   2   1   0\\n     0   2   3   2   2   1   2   2   2   2   1   3   3   1   0   0   0\\n     0   0   0   0   0   1   0   0   0   0   0   0   0   0   1   1   1\\n     1   1   1   1   1   1   1   1   1   1   1   1   1   1   1   1   1\\n     1   1   1   1   1   2   2   3   3   3   3   3   3   3   3   3   3\\n     3   3   3   3   3   2   2   2   1   1   1   1   1   1   0]]]'"
     },
     "execution_count": 6,
     "metadata": {},
     "output_type": "execute_result"
    }
   ],
   "source": [
    "string"
   ],
   "metadata": {
    "collapsed": false,
    "ExecuteTime": {
     "end_time": "2023-06-15T03:12:50.437695330Z",
     "start_time": "2023-06-15T03:12:50.420515321Z"
    }
   }
  },
  {
   "cell_type": "code",
   "execution_count": null,
   "outputs": [],
   "source": [
    "fix_retarded_string(string)"
   ],
   "metadata": {
    "collapsed": false
   }
  },
  {
   "cell_type": "code",
   "execution_count": 8,
   "outputs": [],
   "source": [
    "df[\"betti_H0\"] = df['betti'].apply(lambda x: fix_retarded_string(x)[0])"
   ],
   "metadata": {
    "collapsed": false,
    "ExecuteTime": {
     "end_time": "2023-06-15T03:13:37.465208440Z",
     "start_time": "2023-06-15T03:13:00.383558959Z"
    }
   }
  },
  {
   "cell_type": "code",
   "execution_count": null,
   "outputs": [],
   "source": [
    "df[\"betti_H0\"]"
   ],
   "metadata": {
    "collapsed": false
   }
  },
  {
   "cell_type": "code",
   "execution_count": null,
   "outputs": [],
   "source": [
    "df['betti_H1']"
   ],
   "metadata": {
    "collapsed": false
   }
  },
  {
   "cell_type": "code",
   "execution_count": 10,
   "outputs": [],
   "source": [
    "df[\"betti_H1\"] = df['betti'].apply(lambda x: fix_retarded_string(x)[1])"
   ],
   "metadata": {
    "collapsed": false,
    "ExecuteTime": {
     "end_time": "2023-06-15T03:17:08.823867996Z",
     "start_time": "2023-06-15T03:16:32.257339570Z"
    }
   }
  },
  {
   "cell_type": "code",
   "execution_count": null,
   "outputs": [],
   "source": [
    "type(df[\"betti_H1\"][0][0])"
   ],
   "metadata": {
    "collapsed": false
   }
  },
  {
   "cell_type": "markdown",
   "source": [
    "# svDB.csv research"
   ],
   "metadata": {
    "collapsed": false
   }
  },
  {
   "cell_type": "code",
   "execution_count": 11,
   "outputs": [],
   "source": [
    "df = pd.read_csv(\"data_sliced_tda/svDB.csv\")"
   ],
   "metadata": {
    "collapsed": false,
    "ExecuteTime": {
     "end_time": "2023-06-15T14:24:06.896210061Z",
     "start_time": "2023-06-15T14:24:00.950961940Z"
    }
   }
  },
  {
   "cell_type": "code",
   "execution_count": 13,
   "outputs": [],
   "source": [
    "string = df['betti_H0'][0]"
   ],
   "metadata": {
    "collapsed": false,
    "ExecuteTime": {
     "end_time": "2023-06-15T14:25:08.742436118Z",
     "start_time": "2023-06-15T14:25:08.694132178Z"
    }
   }
  },
  {
   "cell_type": "code",
   "execution_count": 14,
   "outputs": [
    {
     "data": {
      "text/plain": "'[770 641 427 332 289 272 261 247 234 212 199 182 172 156 144 123 111  94\\n  88  82  78  72  70  66  62  60  55  53  51  48  41  39  38  38  37  36\\n  36  36  35  32  31  30  28  27  26  26  26  26  24  22  22  22  20  18\\n  17  16  16  16  16  16  16  15  15  15  14  14  14  13  13  11  10  10\\n   7   7   7   7   7   7   7   7   7   7   6   6   5   4   4   4   4   4\\n   4   4   3   3   3   2   2   2   2   0]'"
     },
     "execution_count": 14,
     "metadata": {},
     "output_type": "execute_result"
    }
   ],
   "source": [
    "string"
   ],
   "metadata": {
    "collapsed": false,
    "ExecuteTime": {
     "end_time": "2023-06-15T14:25:10.799517621Z",
     "start_time": "2023-06-15T14:25:10.778059595Z"
    }
   }
  },
  {
   "cell_type": "code",
   "execution_count": 15,
   "outputs": [],
   "source": [
    "def fix_retarded_string(retarded_string):\n",
    "    string_data = (re.sub(r'\\s+', ',', retarded_string.replace(\"\\n\", \"\"))).replace(\"[,\", \"[\")\n",
    "\n",
    "    # Both of these work:\n",
    "    #return json.loads(string_data)\n",
    "    return ast.literal_eval(string_data)"
   ],
   "metadata": {
    "collapsed": false,
    "ExecuteTime": {
     "end_time": "2023-06-15T14:26:09.170808084Z",
     "start_time": "2023-06-15T14:26:09.136086513Z"
    }
   }
  },
  {
   "cell_type": "code",
   "execution_count": null,
   "outputs": [],
   "source": [
    "fix_retarded_string(string)"
   ],
   "metadata": {
    "collapsed": false
   }
  }
 ],
 "metadata": {
  "kernelspec": {
   "display_name": "Python 3",
   "language": "python",
   "name": "python3"
  },
  "language_info": {
   "codemirror_mode": {
    "name": "ipython",
    "version": 2
   },
   "file_extension": ".py",
   "mimetype": "text/x-python",
   "name": "python",
   "nbconvert_exporter": "python",
   "pygments_lexer": "ipython2",
   "version": "2.7.6"
  }
 },
 "nbformat": 4,
 "nbformat_minor": 0
}
