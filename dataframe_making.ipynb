{
 "cells": [
  {
   "cell_type": "code",
   "execution_count": 89,
   "outputs": [],
   "source": [
    "import pandas as pd\n",
    "%run heartbeat_slicer.ipynb"
   ],
   "metadata": {
    "collapsed": false,
    "ExecuteTime": {
     "end_time": "2023-06-14T13:24:18.197797833Z",
     "start_time": "2023-06-14T13:24:16.300480263Z"
    }
   }
  },
  {
   "cell_type": "code",
   "execution_count": 90,
   "outputs": [],
   "source": [
    "from gtda.time_series import SingleTakensEmbedding\n",
    "from gtda.homology import VietorisRipsPersistence\n",
    "from gtda.diagrams import BettiCurve\n",
    "from gtda.plotting import plot_point_cloud\n",
    "from datetime import datetime"
   ],
   "metadata": {
    "collapsed": false,
    "ExecuteTime": {
     "end_time": "2023-06-14T13:24:20.548525598Z",
     "start_time": "2023-06-14T13:24:20.546260889Z"
    }
   }
  },
  {
   "cell_type": "code",
   "execution_count": 91,
   "outputs": [],
   "source": [
    "folder_path = \"data_processed/svdb\"\n",
    "record_names_path = \"data_original/svdb/RECORDS\"\n",
    "\n",
    "with open(record_names_path, 'r') as record_names_file:\n",
    "    record_names = record_names_file.readlines()\n",
    "\n",
    "record_names = [record_name[:-1] for record_name in record_names]"
   ],
   "metadata": {
    "collapsed": false,
    "ExecuteTime": {
     "end_time": "2023-06-14T13:24:30.195103015Z",
     "start_time": "2023-06-14T13:24:30.158269247Z"
    }
   }
  },
  {
   "cell_type": "code",
   "execution_count": 92,
   "outputs": [],
   "source": [
    "dataSvDB = []\n",
    "\n",
    "for record_name in record_names:\n",
    "    sliced = HeartbeatSlicer(folder_path + '/' + record_name + '_processed')\n",
    "    dataSvDB.append(sliced.annotate_heartbeats())"
   ],
   "metadata": {
    "collapsed": false,
    "ExecuteTime": {
     "end_time": "2023-06-14T13:24:42.414717636Z",
     "start_time": "2023-06-14T13:24:37.648170972Z"
    }
   }
  },
  {
   "cell_type": "code",
   "execution_count": 96,
   "outputs": [
    {
     "ename": "AttributeError",
     "evalue": "'list' object has no attribute 'shape'",
     "output_type": "error",
     "traceback": [
      "\u001B[0;31m---------------------------------------------------------------------------\u001B[0m",
      "\u001B[0;31mAttributeError\u001B[0m                            Traceback (most recent call last)",
      "Cell \u001B[0;32mIn[96], line 2\u001B[0m\n\u001B[1;32m      1\u001B[0m \u001B[38;5;66;03m#[patient][heartbeat_num] - [0]:heartbeat [1]:ann\u001B[39;00m\n\u001B[0;32m----> 2\u001B[0m \u001B[43mdataSvDB\u001B[49m\u001B[38;5;241;43m.\u001B[39;49m\u001B[43mshape\u001B[49m\n",
      "\u001B[0;31mAttributeError\u001B[0m: 'list' object has no attribute 'shape'"
     ]
    }
   ],
   "source": [
    "#[patient][heartbeat_num] - [0]:heartbeat [1]:ann\n",
    "dataSvDB[2][3][0].shape"
   ],
   "metadata": {
    "collapsed": false,
    "ExecuteTime": {
     "end_time": "2023-06-14T13:25:18.574273980Z",
     "start_time": "2023-06-14T13:25:18.561404758Z"
    }
   }
  },
  {
   "cell_type": "code",
   "execution_count": 97,
   "outputs": [],
   "source": [
    "def make_point_cloud(heartbeat_):\n",
    "\n",
    "    embedding_dimension_periodic = 3\n",
    "    embedding_time_delay_periodic = 8\n",
    "    embedder_periodic = SingleTakensEmbedding(\n",
    "        parameters_type=\"fixed\",\n",
    "        n_jobs=2,\n",
    "        time_delay=embedding_time_delay_periodic,\n",
    "        dimension=embedding_dimension_periodic,\n",
    "    )\n",
    "    point_cloud_ = embedder_periodic.fit_transform(heartbeat)\n",
    "    plot_point_cloud(point_cloud_)\n",
    "\n",
    "    return point_cloud_\n"
   ],
   "metadata": {
    "collapsed": false,
    "ExecuteTime": {
     "end_time": "2023-06-14T13:25:31.323420490Z",
     "start_time": "2023-06-14T13:25:31.280454325Z"
    }
   }
  },
  {
   "cell_type": "code",
   "execution_count": 98,
   "outputs": [],
   "source": [
    "def make_complex_w_pers_diag(point_cloud_):\n",
    "    point_cloud_ = point_cloud_[None, :, :]\n",
    "\n",
    "    homology_dimensions = [0, 1]\n",
    "\n",
    "    periodic_persistence = VietorisRipsPersistence(\n",
    "        homology_dimensions=homology_dimensions, n_jobs=-1\n",
    "    )\n",
    "\n",
    "    diag_ = periodic_persistence.fit_transform(point_cloud_)\n",
    "\n",
    "    return diag_\n"
   ],
   "metadata": {
    "collapsed": false,
    "ExecuteTime": {
     "end_time": "2023-06-14T13:25:34.140761739Z",
     "start_time": "2023-06-14T13:25:34.137982782Z"
    }
   }
  },
  {
   "cell_type": "code",
   "execution_count": 99,
   "outputs": [],
   "source": [
    "def make_betti_curve(diag_):\n",
    "    bc = BettiCurve(n_jobs=-1)\n",
    "    betti_curve_ = bc.fit_transform(diag_)\n",
    "    return betti_curve_"
   ],
   "metadata": {
    "collapsed": false,
    "ExecuteTime": {
     "end_time": "2023-06-14T13:25:37.387793946Z",
     "start_time": "2023-06-14T13:25:37.385286798Z"
    }
   }
  },
  {
   "cell_type": "code",
   "execution_count": 89,
   "outputs": [],
   "source": [
    "# betti = make_betti_curve(dataMitDB[2][2][0])"
   ],
   "metadata": {
    "collapsed": false,
    "ExecuteTime": {
     "end_time": "2023-06-13T20:15:14.562350893Z",
     "start_time": "2023-06-13T20:15:14.554600736Z"
    }
   }
  },
  {
   "cell_type": "code",
   "execution_count": 90,
   "outputs": [],
   "source": [
    "# betti[0][0]"
   ],
   "metadata": {
    "collapsed": false,
    "ExecuteTime": {
     "end_time": "2023-06-13T20:15:14.789730630Z",
     "start_time": "2023-06-13T20:15:14.781588900Z"
    }
   }
  },
  {
   "cell_type": "code",
   "execution_count": null,
   "outputs": [
    {
     "name": "stdout",
     "output_type": "stream",
     "text": [
      "Processing patient:  1 / 78  | heartbeat:  1 / 1915\n",
      "Processing patient:  1 / 78  | heartbeat:  2 / 1915\n",
      "Processing patient:  1 / 78  | heartbeat:  3 / 1915\n",
      "Processing patient:  1 / 78  | heartbeat:  4 / 1915\n",
      "Processing patient:  1 / 78  | heartbeat:  5 / 1915\n",
      "Processing patient:  1 / 78  | heartbeat:  6 / 1915\n",
      "Processing patient:  1 / 78  | heartbeat:  7 / 1915\n",
      "Processing patient:  1 / 78  | heartbeat:  8 / 1915\n",
      "Processing patient:  1 / 78  | heartbeat:  9 / 1915\n",
      "Processing patient:  1 / 78  | heartbeat:  10 / 1915\n",
      "Processing patient:  1 / 78  | heartbeat:  11 / 1915\n",
      "Processing patient:  1 / 78  | heartbeat:  12 / 1915\n",
      "Processing patient:  1 / 78  | heartbeat:  13 / 1915\n",
      "Processing patient:  1 / 78  | heartbeat:  14 / 1915\n",
      "Processing patient:  1 / 78  | heartbeat:  15 / 1915\n",
      "Processing patient:  1 / 78  | heartbeat:  16 / 1915\n",
      "Processing patient:  1 / 78  | heartbeat:  17 / 1915\n",
      "Processing patient:  1 / 78  | heartbeat:  18 / 1915\n",
      "Processing patient:  1 / 78  | heartbeat:  19 / 1915\n",
      "Processing patient:  1 / 78  | heartbeat:  20 / 1915\n",
      "Processing patient:  1 / 78  | heartbeat:  21 / 1915\n",
      "Processing patient:  1 / 78  | heartbeat:  22 / 1915\n",
      "Processing patient:  1 / 78  | heartbeat:  23 / 1915\n",
      "Processing patient:  1 / 78  | heartbeat:  24 / 1915\n",
      "Processing patient:  1 / 78  | heartbeat:  25 / 1915\n",
      "Processing patient:  1 / 78  | heartbeat:  26 / 1915\n",
      "Processing patient:  1 / 78  | heartbeat:  27 / 1915\n",
      "Processing patient:  1 / 78  | heartbeat:  28 / 1915\n",
      "Processing patient:  1 / 78  | heartbeat:  29 / 1915\n",
      "Processing patient:  1 / 78  | heartbeat:  30 / 1915\n",
      "Processing patient:  1 / 78  | heartbeat:  31 / 1915\n",
      "Processing patient:  1 / 78  | heartbeat:  32 / 1915\n",
      "Processing patient:  1 / 78  | heartbeat:  33 / 1915\n",
      "Processing patient:  1 / 78  | heartbeat:  34 / 1915\n",
      "Processing patient:  1 / 78  | heartbeat:  35 / 1915\n",
      "Processing patient:  1 / 78  | heartbeat:  36 / 1915\n",
      "Processing patient:  1 / 78  | heartbeat:  37 / 1915\n",
      "Processing patient:  1 / 78  | heartbeat:  38 / 1915\n",
      "Processing patient:  1 / 78  | heartbeat:  39 / 1915\n",
      "Processing patient:  1 / 78  | heartbeat:  40 / 1915\n",
      "Processing patient:  1 / 78  | heartbeat:  41 / 1915\n",
      "Processing patient:  1 / 78  | heartbeat:  42 / 1915\n",
      "Processing patient:  1 / 78  | heartbeat:  43 / 1915\n",
      "Processing patient:  1 / 78  | heartbeat:  44 / 1915\n",
      "Processing patient:  1 / 78  | heartbeat:  45 / 1915\n",
      "Processing patient:  1 / 78  | heartbeat:  46 / 1915\n",
      "Processing patient:  1 / 78  | heartbeat:  47 / 1915\n",
      "Processing patient:  1 / 78  | heartbeat:  48 / 1915\n",
      "Processing patient:  1 / 78  | heartbeat:  49 / 1915\n",
      "Processing patient:  1 / 78  | heartbeat:  50 / 1915\n",
      "Processing patient:  1 / 78  | heartbeat:  51 / 1915\n",
      "Processing patient:  1 / 78  | heartbeat:  52 / 1915\n",
      "Processing patient:  1 / 78  | heartbeat:  53 / 1915\n",
      "Processing patient:  1 / 78  | heartbeat:  54 / 1915\n",
      "Processing patient:  1 / 78  | heartbeat:  55 / 1915\n",
      "Processing patient:  1 / 78  | heartbeat:  56 / 1915\n",
      "Processing patient:  1 / 78  | heartbeat:  57 / 1915\n",
      "Processing patient:  1 / 78  | heartbeat:  58 / 1915\n",
      "Processing patient:  1 / 78  | heartbeat:  59 / 1915\n",
      "Processing patient:  1 / 78  | heartbeat:  60 / 1915\n"
     ]
    }
   ],
   "source": [
    "df_to_be = []\n",
    "patient_counter = 0\n",
    "patient_number = len(dataSvDB)\n",
    "timestamp_begin = datetime.now()\n",
    "\n",
    "for patient in dataSvDB:\n",
    "    patient_counter = patient_counter+1\n",
    "    heartbeat_counter = 0\n",
    "    heartbeat_number = len(patient)\n",
    "\n",
    "    for heartbeat, ann in patient:\n",
    "        heartbeat_counter = heartbeat_counter+1\n",
    "        print(\"Processing patient: \", patient_counter, \"/\", patient_number, \" | heartbeat: \", heartbeat_counter, \"/\", heartbeat_number)\n",
    "        # Convert the segment to a point cloud\n",
    "        point_cloud = make_point_cloud(heartbeat)\n",
    "\n",
    "        # Compute the Vietoris-Rips complex and its persistence diagram\n",
    "        diag = make_complex_w_pers_diag(point_cloud)\n",
    "\n",
    "        # Compute and return Betti curve\n",
    "        betti = make_betti_curve(diag)\n",
    "\n",
    "        df_to_be.append([point_cloud, diag, betti, ann])\n",
    "\n",
    "\n",
    "timestamp_end = datetime.now()\n",
    "print(\"----------------------------------------------------------------\")\n",
    "print(\"started: \", timestamp_begin, \" | finished: \", timestamp_end)\n",
    "df = pd.DataFrame(df_to_be, columns=['points_cloud', 'diag', 'betti', 'ann'])\n"
   ],
   "metadata": {
    "collapsed": false,
    "is_executing": true,
    "ExecuteTime": {
     "start_time": "2023-06-14T13:25:55.836049667Z"
    }
   }
  },
  {
   "cell_type": "code",
   "execution_count": 53,
   "outputs": [],
   "source": [
    "df.to_csv(\"data_processed/svDB.csv\")"
   ],
   "metadata": {
    "collapsed": false,
    "ExecuteTime": {
     "end_time": "2023-06-14T11:56:37.377165843Z",
     "start_time": "2023-06-14T11:54:33.953873770Z"
    }
   }
  }
 ],
 "metadata": {
  "kernelspec": {
   "display_name": "Python 3",
   "language": "python",
   "name": "python3"
  },
  "language_info": {
   "codemirror_mode": {
    "name": "ipython",
    "version": 2
   },
   "file_extension": ".py",
   "mimetype": "text/x-python",
   "name": "python",
   "nbconvert_exporter": "python",
   "pygments_lexer": "ipython2",
   "version": "2.7.6"
  }
 },
 "nbformat": 4,
 "nbformat_minor": 0
}
