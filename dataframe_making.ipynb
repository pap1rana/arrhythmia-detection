{
 "cells": [
  {
   "cell_type": "code",
   "execution_count": 1,
   "outputs": [],
   "source": [
    "import pandas as pd\n",
    "%run heartbeat_slicer.ipynb"
   ],
   "metadata": {
    "collapsed": false,
    "ExecuteTime": {
     "end_time": "2023-06-13T18:14:27.292579541Z",
     "start_time": "2023-06-13T18:14:24.005976632Z"
    }
   }
  },
  {
   "cell_type": "code",
   "execution_count": 2,
   "outputs": [],
   "source": [
    "import os\n",
    "import numpy as np\n",
    "from matplotlib import pyplot as plt\n",
    "import gudhi\n",
    "import gudhi.representations.vector_methods as grvm\n",
    "from gtda.time_series import SingleTakensEmbedding\n",
    "from gtda.homology import VietorisRipsPersistence\n",
    "from gtda.diagrams import BettiCurve\n",
    "from gtda.plotting import plot_point_cloud"
   ],
   "metadata": {
    "collapsed": false,
    "ExecuteTime": {
     "end_time": "2023-06-13T18:14:27.441774436Z",
     "start_time": "2023-06-13T18:14:27.296782443Z"
    }
   }
  },
  {
   "cell_type": "code",
   "execution_count": 3,
   "outputs": [],
   "source": [
    "folder_path = \"data_processed/mitdb\"\n",
    "record_names_path = \"data_original/mitdb/RECORDS\"\n",
    "\n",
    "with open(record_names_path, 'r') as record_names_file:\n",
    "    record_names = record_names_file.readlines()\n",
    "\n",
    "record_names = [record_name[:-1] for record_name in record_names]"
   ],
   "metadata": {
    "collapsed": false,
    "ExecuteTime": {
     "end_time": "2023-06-13T18:14:27.447323459Z",
     "start_time": "2023-06-13T18:14:27.444443352Z"
    }
   }
  },
  {
   "cell_type": "code",
   "execution_count": 4,
   "outputs": [],
   "source": [
    "dataMitDB = []\n",
    "\n",
    "for record_name in record_names:\n",
    "    sliced = HeartbeatSlicer(folder_path + '/' + record_name + '_processed')\n",
    "    dataMitDB.append(sliced.annotate_heartbeats())"
   ],
   "metadata": {
    "collapsed": false,
    "ExecuteTime": {
     "end_time": "2023-06-13T18:14:29.780087084Z",
     "start_time": "2023-06-13T18:14:27.449027286Z"
    }
   }
  },
  {
   "cell_type": "code",
   "execution_count": 5,
   "outputs": [
    {
     "data": {
      "text/plain": "(497,)"
     },
     "execution_count": 5,
     "metadata": {},
     "output_type": "execute_result"
    }
   ],
   "source": [
    "#[patient][heartbeat_num] - [0]:heartbeat [1]:ann\n",
    "dataMitDB[2][3][0].shape"
   ],
   "metadata": {
    "collapsed": false,
    "ExecuteTime": {
     "end_time": "2023-06-13T18:14:29.792411657Z",
     "start_time": "2023-06-13T18:14:29.788101474Z"
    }
   }
  },
  {
   "cell_type": "code",
   "execution_count": 68,
   "outputs": [],
   "source": [
    "def make_point_cloud(heartbeat_):\n",
    "\n",
    "    embedding_dimension_periodic = 3\n",
    "    embedding_time_delay_periodic = 8\n",
    "    embedder_periodic = SingleTakensEmbedding(\n",
    "        parameters_type=\"fixed\",\n",
    "        n_jobs=2,\n",
    "        time_delay=embedding_time_delay_periodic,\n",
    "        dimension=embedding_dimension_periodic,\n",
    "    )\n",
    "    point_cloud_ = embedder_periodic.fit_transform(heartbeat)\n",
    "    plot_point_cloud(point_cloud_)\n",
    "\n",
    "    return point_cloud_\n"
   ],
   "metadata": {
    "collapsed": false,
    "ExecuteTime": {
     "end_time": "2023-06-13T20:08:52.099045981Z",
     "start_time": "2023-06-13T20:08:52.020806484Z"
    }
   }
  },
  {
   "cell_type": "code",
   "execution_count": 87,
   "outputs": [],
   "source": [
    "def make_complex_w_pers_diag(point_cloud_):\n",
    "    point_cloud_ = point_cloud_[None, :, :]\n",
    "\n",
    "    homology_dimensions = [0, 1]\n",
    "\n",
    "    periodic_persistence = VietorisRipsPersistence(\n",
    "        homology_dimensions=homology_dimensions, n_jobs=-1\n",
    "    )\n",
    "\n",
    "    diag_ = periodic_persistence.fit_transform(point_cloud_)\n",
    "\n",
    "    return diag_\n"
   ],
   "metadata": {
    "collapsed": false,
    "ExecuteTime": {
     "end_time": "2023-06-13T20:15:13.466470318Z",
     "start_time": "2023-06-13T20:15:13.460000911Z"
    }
   }
  },
  {
   "cell_type": "code",
   "execution_count": 88,
   "outputs": [],
   "source": [
    "def make_betti_curve(diag_):\n",
    "    bc = BettiCurve(n_jobs=-1)\n",
    "    betti_curve_ = bc.fit_transform(diag_)\n",
    "    return betti_curve_"
   ],
   "metadata": {
    "collapsed": false,
    "ExecuteTime": {
     "end_time": "2023-06-13T20:15:14.413503663Z",
     "start_time": "2023-06-13T20:15:14.371256104Z"
    }
   }
  },
  {
   "cell_type": "code",
   "execution_count": 89,
   "outputs": [],
   "source": [
    "# betti = make_betti_curve(dataMitDB[2][2][0])"
   ],
   "metadata": {
    "collapsed": false,
    "ExecuteTime": {
     "end_time": "2023-06-13T20:15:14.562350893Z",
     "start_time": "2023-06-13T20:15:14.554600736Z"
    }
   }
  },
  {
   "cell_type": "code",
   "execution_count": 90,
   "outputs": [],
   "source": [
    "# betti[0][0]"
   ],
   "metadata": {
    "collapsed": false,
    "ExecuteTime": {
     "end_time": "2023-06-13T20:15:14.789730630Z",
     "start_time": "2023-06-13T20:15:14.781588900Z"
    }
   }
  },
  {
   "cell_type": "code",
   "execution_count": null,
   "outputs": [],
   "source": [
    "df_to_be = []\n",
    "\n",
    "for patient in dataMitDB:\n",
    "    for heartbeat, ann in patient:\n",
    "        # Convert the segment to a point cloud\n",
    "        point_cloud = make_point_cloud(heartbeat)\n",
    "\n",
    "        # Compute the Vietoris-Rips complex and its persistence diagram\n",
    "        diag = make_complex_w_pers_diag(point_cloud)\n",
    "\n",
    "        # Compute and return Betti curve\n",
    "        betti = make_betti_curve(diag)\n",
    "\n",
    "        df_to_be.append([point_cloud, diag, betti, ann])\n",
    "\n",
    "df = pd.DataFrame(df_to_be, columns=['points_cloud', 'diag', 'betti', 'ann'])"
   ],
   "metadata": {
    "collapsed": false,
    "is_executing": true,
    "ExecuteTime": {
     "start_time": "2023-06-13T20:15:15.004920442Z"
    }
   }
  },
  {
   "cell_type": "code",
   "execution_count": 85,
   "outputs": [
    {
     "data": {
      "text/plain": "Empty DataFrame\nColumns: []\nIndex: []",
      "text/html": "<div>\n<style scoped>\n    .dataframe tbody tr th:only-of-type {\n        vertical-align: middle;\n    }\n\n    .dataframe tbody tr th {\n        vertical-align: top;\n    }\n\n    .dataframe thead th {\n        text-align: right;\n    }\n</style>\n<table border=\"1\" class=\"dataframe\">\n  <thead>\n    <tr style=\"text-align: right;\">\n      <th></th>\n    </tr>\n  </thead>\n  <tbody>\n  </tbody>\n</table>\n</div>"
     },
     "execution_count": 85,
     "metadata": {},
     "output_type": "execute_result"
    }
   ],
   "source": [
    "df\n"
   ],
   "metadata": {
    "collapsed": false,
    "ExecuteTime": {
     "end_time": "2023-06-13T20:13:17.168574774Z",
     "start_time": "2023-06-13T20:13:17.161262321Z"
    }
   }
  },
  {
   "cell_type": "code",
   "execution_count": 53,
   "outputs": [
    {
     "data": {
      "text/plain": "array([[-0.01220739,  0.08545174,  0.00500303],\n       [-0.01600969,  0.13508179, -0.01460885],\n       [-0.02121284,  0.1721042 , -0.02181321],\n       ...,\n       [ 0.0104063 ,  0.00900545,  0.00440267],\n       [ 0.0104063 ,  0.00860521,  0.00360218],\n       [ 0.01020618,  0.00820497,  0.0028017 ]])"
     },
     "execution_count": 53,
     "metadata": {},
     "output_type": "execute_result"
    }
   ],
   "source": [
    "make_point_cloud(dataMitDB[0][0][0])"
   ],
   "metadata": {
    "collapsed": false,
    "ExecuteTime": {
     "end_time": "2023-06-13T19:59:09.382329593Z",
     "start_time": "2023-06-13T19:59:09.351736206Z"
    }
   }
  },
  {
   "cell_type": "code",
   "execution_count": null,
   "outputs": [],
   "source": [
    "make_point_cloud()"
   ],
   "metadata": {
    "collapsed": false
   }
  }
 ],
 "metadata": {
  "kernelspec": {
   "display_name": "Python 3",
   "language": "python",
   "name": "python3"
  },
  "language_info": {
   "codemirror_mode": {
    "name": "ipython",
    "version": 2
   },
   "file_extension": ".py",
   "mimetype": "text/x-python",
   "name": "python",
   "nbconvert_exporter": "python",
   "pygments_lexer": "ipython2",
   "version": "2.7.6"
  }
 },
 "nbformat": 4,
 "nbformat_minor": 0
}
