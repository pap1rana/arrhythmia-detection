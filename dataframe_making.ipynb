{
 "cells": [
  {
   "cell_type": "code",
   "execution_count": 31,
   "outputs": [],
   "source": [
    "import pandas as pd\n",
    "%run heartbeat_slicer.ipynb"
   ],
   "metadata": {
    "collapsed": false,
    "ExecuteTime": {
     "end_time": "2023-06-14T02:09:40.740227257Z",
     "start_time": "2023-06-14T02:09:38.131154373Z"
    }
   }
  },
  {
   "cell_type": "code",
   "execution_count": 32,
   "outputs": [],
   "source": [
    "from gtda.time_series import SingleTakensEmbedding\n",
    "from gtda.homology import VietorisRipsPersistence\n",
    "from gtda.diagrams import BettiCurve\n",
    "from gtda.plotting import plot_point_cloud"
   ],
   "metadata": {
    "collapsed": false,
    "ExecuteTime": {
     "end_time": "2023-06-14T02:09:44.584981907Z",
     "start_time": "2023-06-14T02:09:44.583650155Z"
    }
   }
  },
  {
   "cell_type": "code",
   "execution_count": 33,
   "outputs": [],
   "source": [
    "folder_path = \"data_processed/mitdb\"\n",
    "record_names_path = \"data_original/mitdb/RECORDS\"\n",
    "\n",
    "with open(record_names_path, 'r') as record_names_file:\n",
    "    record_names = record_names_file.readlines()\n",
    "\n",
    "record_names = [record_name[:-1] for record_name in record_names]"
   ],
   "metadata": {
    "collapsed": false,
    "ExecuteTime": {
     "end_time": "2023-06-14T02:09:46.903479231Z",
     "start_time": "2023-06-14T02:09:46.883556398Z"
    }
   }
  },
  {
   "cell_type": "code",
   "execution_count": 47,
   "outputs": [],
   "source": [
    "dataMitDB = []\n",
    "\n",
    "for record_name in record_names:\n",
    "    sliced = HeartbeatSlicer(folder_path + '/' + record_name + '_processed')\n",
    "    dataMitDB.append(sliced.annotate_heartbeats())"
   ],
   "metadata": {
    "collapsed": false,
    "ExecuteTime": {
     "end_time": "2023-06-14T02:13:40.850639889Z",
     "start_time": "2023-06-14T02:13:38.839159522Z"
    }
   }
  },
  {
   "cell_type": "code",
   "execution_count": 8,
   "outputs": [
    {
     "data": {
      "text/plain": "(348,)"
     },
     "execution_count": 8,
     "metadata": {},
     "output_type": "execute_result"
    }
   ],
   "source": [
    "#[patient][heartbeat_num] - [0]:heartbeat [1]:ann\n",
    "dataMitDB[2][3][0].shape"
   ],
   "metadata": {
    "collapsed": false,
    "ExecuteTime": {
     "end_time": "2023-06-13T23:33:25.937675517Z",
     "start_time": "2023-06-13T23:33:25.930215462Z"
    }
   }
  },
  {
   "cell_type": "code",
   "execution_count": 49,
   "outputs": [],
   "source": [
    "dataMitDB.reverse()"
   ],
   "metadata": {
    "collapsed": false,
    "ExecuteTime": {
     "end_time": "2023-06-14T02:14:25.920798320Z",
     "start_time": "2023-06-14T02:14:25.917166960Z"
    }
   }
  },
  {
   "cell_type": "code",
   "execution_count": 36,
   "outputs": [],
   "source": [
    "def make_point_cloud(heartbeat_):\n",
    "\n",
    "    embedding_dimension_periodic = 3\n",
    "    embedding_time_delay_periodic = 8\n",
    "    embedder_periodic = SingleTakensEmbedding(\n",
    "        parameters_type=\"fixed\",\n",
    "        n_jobs=2,\n",
    "        time_delay=embedding_time_delay_periodic,\n",
    "        dimension=embedding_dimension_periodic,\n",
    "    )\n",
    "    point_cloud_ = embedder_periodic.fit_transform(heartbeat)\n",
    "    plot_point_cloud(point_cloud_)\n",
    "\n",
    "    return point_cloud_\n"
   ],
   "metadata": {
    "collapsed": false,
    "ExecuteTime": {
     "end_time": "2023-06-14T02:10:44.616672456Z",
     "start_time": "2023-06-14T02:10:44.581190970Z"
    }
   }
  },
  {
   "cell_type": "code",
   "execution_count": 37,
   "outputs": [],
   "source": [
    "def make_complex_w_pers_diag(point_cloud_):\n",
    "    point_cloud_ = point_cloud_[None, :, :]\n",
    "\n",
    "    homology_dimensions = [0, 1]\n",
    "\n",
    "    periodic_persistence = VietorisRipsPersistence(\n",
    "        homology_dimensions=homology_dimensions, n_jobs=-1\n",
    "    )\n",
    "\n",
    "    diag_ = periodic_persistence.fit_transform(point_cloud_)\n",
    "\n",
    "    return diag_\n"
   ],
   "metadata": {
    "collapsed": false,
    "ExecuteTime": {
     "end_time": "2023-06-14T02:10:46.740393510Z",
     "start_time": "2023-06-14T02:10:46.726778038Z"
    }
   }
  },
  {
   "cell_type": "code",
   "execution_count": 38,
   "outputs": [],
   "source": [
    "def make_betti_curve(diag_):\n",
    "    bc = BettiCurve(n_jobs=-1)\n",
    "    betti_curve_ = bc.fit_transform(diag_)\n",
    "    return betti_curve_"
   ],
   "metadata": {
    "collapsed": false,
    "ExecuteTime": {
     "end_time": "2023-06-14T02:10:50.429830157Z",
     "start_time": "2023-06-14T02:10:50.423957360Z"
    }
   }
  },
  {
   "cell_type": "code",
   "execution_count": 89,
   "outputs": [],
   "source": [
    "# betti = make_betti_curve(dataMitDB[2][2][0])"
   ],
   "metadata": {
    "collapsed": false,
    "ExecuteTime": {
     "end_time": "2023-06-13T20:15:14.562350893Z",
     "start_time": "2023-06-13T20:15:14.554600736Z"
    }
   }
  },
  {
   "cell_type": "code",
   "execution_count": 90,
   "outputs": [],
   "source": [
    "# betti[0][0]"
   ],
   "metadata": {
    "collapsed": false,
    "ExecuteTime": {
     "end_time": "2023-06-13T20:15:14.789730630Z",
     "start_time": "2023-06-13T20:15:14.781588900Z"
    }
   }
  },
  {
   "cell_type": "code",
   "execution_count": null,
   "outputs": [],
   "source": [
    "df_to_be = []\n",
    "patient_counter = 0\n",
    "patient_number = len(dataMitDB)\n",
    "\n",
    "for patient in dataMitDB:\n",
    "    patient_counter = patient_counter+1\n",
    "    print(\"Processing patient: \", patient_counter, \"/\", patient_number)\n",
    "    print(\"---------------------------------------------\")\n",
    "    heartbeat_counter = 0\n",
    "    heartbeat_number = len(patient)\n",
    "    for heartbeat, ann in patient:\n",
    "        heartbeat_counter = heartbeat_counter+1\n",
    "        print(\"heartbeat: \", heartbeat_counter, \"/\", heartbeat_number)\n",
    "        # Convert the segment to a point cloud\n",
    "        point_cloud = make_point_cloud(heartbeat)\n",
    "\n",
    "        # Compute the Vietoris-Rips complex and its persistence diagram\n",
    "        diag = make_complex_w_pers_diag(point_cloud)\n",
    "\n",
    "        # Compute and return Betti curve\n",
    "        betti = make_betti_curve(diag)\n",
    "\n",
    "        df_to_be.append([point_cloud, diag, betti, ann])\n",
    "\n",
    "\n",
    "df = pd.DataFrame(df_to_be, columns=['points_cloud', 'diag', 'betti', 'ann'])"
   ],
   "metadata": {
    "collapsed": false
   }
  },
  {
   "cell_type": "code",
   "execution_count": 53,
   "outputs": [],
   "source": [
    "df.to_csv(\"data_processed/mitDB.csv\")"
   ],
   "metadata": {
    "collapsed": false,
    "ExecuteTime": {
     "end_time": "2023-06-14T11:56:37.377165843Z",
     "start_time": "2023-06-14T11:54:33.953873770Z"
    }
   }
  }
 ],
 "metadata": {
  "kernelspec": {
   "display_name": "Python 3",
   "language": "python",
   "name": "python3"
  },
  "language_info": {
   "codemirror_mode": {
    "name": "ipython",
    "version": 2
   },
   "file_extension": ".py",
   "mimetype": "text/x-python",
   "name": "python",
   "nbconvert_exporter": "python",
   "pygments_lexer": "ipython2",
   "version": "2.7.6"
  }
 },
 "nbformat": 4,
 "nbformat_minor": 0
}
