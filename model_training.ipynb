{
 "cells": [
  {
   "cell_type": "code",
   "execution_count": 39,
   "metadata": {
    "collapsed": true,
    "ExecuteTime": {
     "end_time": "2023-06-15T15:12:31.206965819Z",
     "start_time": "2023-06-15T15:12:31.164259359Z"
    }
   },
   "outputs": [],
   "source": [
    "from keras.models import Sequential\n",
    "from keras.layers import Dense, Conv1D, MaxPooling1D, PReLU, Flatten, Dropout, BatchNormalization"
   ]
  },
  {
   "cell_type": "code",
   "execution_count": 26,
   "outputs": [],
   "source": [
    "# Define the auto-encoder architecture\n",
    "input_dim = 400\n",
    "latent_dim = 20\n",
    "num_classes = 2\n",
    "drop_rate = 0.2\n",
    "input_shape = (50, 1)"
   ],
   "metadata": {
    "collapsed": false,
    "ExecuteTime": {
     "end_time": "2023-06-15T15:01:05.327264976Z",
     "start_time": "2023-06-15T15:01:05.273909526Z"
    }
   }
  },
  {
   "cell_type": "code",
   "execution_count": 27,
   "outputs": [],
   "source": [
    "# Create the auto-encoder model\n",
    "autoencoder = Sequential([\n",
    "    Dense(200, activation='relu', input_shape=input_shape),\n",
    "    Dense(100, activation='relu'),\n",
    "    Dense(50, activation='relu'),\n",
    "    Dense(latent_dim, activation='relu'),\n",
    "    Dense(50, activation='relu'),\n",
    "    Dense(100, activation='relu'),\n",
    "    Dense(200, activation='relu'),\n",
    "    Dense(input_dim)\n",
    "])"
   ],
   "metadata": {
    "collapsed": false,
    "ExecuteTime": {
     "end_time": "2023-06-15T15:01:16.544582186Z",
     "start_time": "2023-06-15T15:01:16.119407870Z"
    }
   }
  },
  {
   "cell_type": "code",
   "execution_count": 33,
   "outputs": [],
   "source": [
    "# Add convolutional layers\n",
    "conv = Sequential([\n",
    "    # TODO: Thirdly, the dropout has been parametrized according to the strategy of the annealing dropout, from a rate  of 0.5 to a rate of 0.0 after 100 epochs\n",
    "    Conv1D(filters=64, kernel_size=10, padding='same', input_shape=input_shape),\n",
    "    MaxPooling1D(pool_size = 2),\n",
    "    PReLU(alpha_initializer='zeros'),\n",
    "    Dropout(rate = 0.2),\n",
    "\n",
    "    Conv1D(filters=128, kernel_size=6, padding='same'),\n",
    "    MaxPooling1D(pool_size = 2),\n",
    "    PReLU(alpha_initializer='zeros'),\n",
    "    Dropout(rate = 0.2),\n",
    "\n",
    "    Conv1D(filters=128, kernel_size=6, padding='same'),\n",
    "    MaxPooling1D(pool_size = 2),\n",
    "    PReLU(alpha_initializer='zeros'),\n",
    "    Dropout(rate = 0.2),\n",
    "\n",
    "    Conv1D(filters=128, kernel_size=4, padding='same'),\n",
    "    MaxPooling1D(pool_size = 2),\n",
    "    PReLU(alpha_initializer='zeros'),\n",
    "    Dropout(rate = 0.2)\n",
    "])"
   ],
   "metadata": {
    "collapsed": false,
    "ExecuteTime": {
     "end_time": "2023-06-15T15:01:44.183412344Z",
     "start_time": "2023-06-15T15:01:44.069888146Z"
    }
   }
  },
  {
   "cell_type": "code",
   "execution_count": 43,
   "outputs": [],
   "source": [
    "# Add classification layers on top of the decoder part\n",
    "model = Sequential([\n",
    "    conv,\n",
    "    # TODO: combined = Concatenate()([x1, x2])\n",
    "\n",
    "    Flatten(),\n",
    "\n",
    "    Dense(32),\n",
    "    BatchNormalization(),\n",
    "    PReLU(alpha_initializer='zeros'),\n",
    "    Dropout(0.5),\n",
    "\n",
    "    # TODO: more dense layers? activation? with dropout? BatchNorm?\n",
    "    Dense(num_classes, activation='softmax')\n",
    "])"
   ],
   "metadata": {
    "collapsed": false,
    "ExecuteTime": {
     "end_time": "2023-06-15T15:13:22.746679148Z",
     "start_time": "2023-06-15T15:13:22.655673892Z"
    }
   }
  },
  {
   "cell_type": "code",
   "execution_count": 44,
   "outputs": [],
   "source": [
    "# Compile the model\n",
    "model.compile(optimizer='adam', loss='categorical_crossentropy', metrics=['accuracy'])"
   ],
   "metadata": {
    "collapsed": false,
    "ExecuteTime": {
     "end_time": "2023-06-15T15:13:24.847773320Z",
     "start_time": "2023-06-15T15:13:24.836981330Z"
    }
   }
  },
  {
   "cell_type": "code",
   "execution_count": 45,
   "outputs": [
    {
     "name": "stdout",
     "output_type": "stream",
     "text": [
      "Model: \"sequential_8\"\n",
      "_________________________________________________________________\n",
      " Layer (type)                Output Shape              Param #   \n",
      "=================================================================\n",
      " conv1d_16 (Conv1D)          (None, 50, 64)            704       \n",
      "                                                                 \n",
      " max_pooling1d_16 (MaxPoolin  (None, 25, 64)           0         \n",
      " g1D)                                                            \n",
      "                                                                 \n",
      " p_re_lu_16 (PReLU)          (None, 25, 64)            1600      \n",
      "                                                                 \n",
      " dropout_16 (Dropout)        (None, 25, 64)            0         \n",
      "                                                                 \n",
      " conv1d_17 (Conv1D)          (None, 25, 128)           49280     \n",
      "                                                                 \n",
      " max_pooling1d_17 (MaxPoolin  (None, 12, 128)          0         \n",
      " g1D)                                                            \n",
      "                                                                 \n",
      " p_re_lu_17 (PReLU)          (None, 12, 128)           1536      \n",
      "                                                                 \n",
      " dropout_17 (Dropout)        (None, 12, 128)           0         \n",
      "                                                                 \n",
      " conv1d_18 (Conv1D)          (None, 12, 128)           98432     \n",
      "                                                                 \n",
      " max_pooling1d_18 (MaxPoolin  (None, 6, 128)           0         \n",
      " g1D)                                                            \n",
      "                                                                 \n",
      " p_re_lu_18 (PReLU)          (None, 6, 128)            768       \n",
      "                                                                 \n",
      " dropout_18 (Dropout)        (None, 6, 128)            0         \n",
      "                                                                 \n",
      " conv1d_19 (Conv1D)          (None, 6, 128)            65664     \n",
      "                                                                 \n",
      " max_pooling1d_19 (MaxPoolin  (None, 3, 128)           0         \n",
      " g1D)                                                            \n",
      "                                                                 \n",
      " p_re_lu_19 (PReLU)          (None, 3, 128)            384       \n",
      "                                                                 \n",
      " dropout_19 (Dropout)        (None, 3, 128)            0         \n",
      "                                                                 \n",
      "=================================================================\n",
      "Total params: 218,368\n",
      "Trainable params: 218,368\n",
      "Non-trainable params: 0\n",
      "_________________________________________________________________\n",
      "Model: \"sequential_11\"\n",
      "_________________________________________________________________\n",
      " Layer (type)                Output Shape              Param #   \n",
      "=================================================================\n",
      " sequential_8 (Sequential)   (None, 3, 128)            218368    \n",
      "                                                                 \n",
      " flatten_5 (Flatten)         (None, 384)               0         \n",
      "                                                                 \n",
      " dense_22 (Dense)            (None, 32)                12320     \n",
      "                                                                 \n",
      " batch_normalization_1 (Batc  (None, 32)               128       \n",
      " hNormalization)                                                 \n",
      "                                                                 \n",
      " p_re_lu_21 (PReLU)          (None, 32)                32        \n",
      "                                                                 \n",
      " dropout_21 (Dropout)        (None, 32)                0         \n",
      "                                                                 \n",
      " dense_23 (Dense)            (None, 2)                 66        \n",
      "                                                                 \n",
      "=================================================================\n",
      "Total params: 230,914\n",
      "Trainable params: 230,850\n",
      "Non-trainable params: 64\n",
      "_________________________________________________________________\n"
     ]
    }
   ],
   "source": [
    "# Print the summary of the model\n",
    "# autoencoder.summary()\n",
    "\n",
    "conv.summary()\n",
    "\n",
    "model.summary()"
   ],
   "metadata": {
    "collapsed": false,
    "ExecuteTime": {
     "end_time": "2023-06-15T15:13:25.199237730Z",
     "start_time": "2023-06-15T15:13:25.155962123Z"
    }
   }
  },
  {
   "cell_type": "code",
   "execution_count": null,
   "outputs": [],
   "source": [
    "# To feed data to this model - fit() method of the model object, e.g.:\n",
    "# model.fit(x_train, y_train, epochs=10, batch_size=32)"
   ],
   "metadata": {
    "collapsed": false
   }
  },
  {
   "cell_type": "code",
   "execution_count": null,
   "outputs": [],
   "source": [],
   "metadata": {
    "collapsed": false
   }
  }
 ],
 "metadata": {
  "kernelspec": {
   "display_name": "Python 3",
   "language": "python",
   "name": "python3"
  },
  "language_info": {
   "codemirror_mode": {
    "name": "ipython",
    "version": 2
   },
   "file_extension": ".py",
   "mimetype": "text/x-python",
   "name": "python",
   "nbconvert_exporter": "python",
   "pygments_lexer": "ipython2",
   "version": "2.7.6"
  }
 },
 "nbformat": 4,
 "nbformat_minor": 0
}
