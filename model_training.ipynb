{
 "cells": [
  {
   "cell_type": "code",
   "execution_count": 28,
   "metadata": {
    "collapsed": true,
    "ExecuteTime": {
     "end_time": "2023-06-15T18:25:58.240840599Z",
     "start_time": "2023-06-15T18:25:58.197349232Z"
    }
   },
   "outputs": [],
   "source": [
    "from tensorflow.keras.models import Sequential\n",
    "from tensorflow.keras.layers import Dense, Conv1D, MaxPooling1D, PReLU, Flatten, Dropout, BatchNormalization, InputLayer"
   ]
  },
  {
   "cell_type": "code",
   "execution_count": 29,
   "outputs": [],
   "source": [
    "# Define the auto-encoder architecture\n",
    "input_dim = 400\n",
    "latent_dim = 20\n",
    "num_classes = 2\n",
    "drop_rate = 0.2\n",
    "input_shape = (100, 1)"
   ],
   "metadata": {
    "collapsed": false,
    "ExecuteTime": {
     "end_time": "2023-06-15T18:25:58.660885176Z",
     "start_time": "2023-06-15T18:25:58.584676265Z"
    }
   }
  },
  {
   "cell_type": "code",
   "execution_count": 30,
   "outputs": [],
   "source": [
    "# Create the auto-encoder model\n",
    "autoencoder = Sequential([\n",
    "    Dense(200, activation='relu', input_shape=input_shape),\n",
    "    Dense(100, activation='relu'),\n",
    "    Dense(50, activation='relu'),\n",
    "    Dense(latent_dim, activation='relu'),\n",
    "    Dense(50, activation='relu'),\n",
    "    Dense(100, activation='relu'),\n",
    "    Dense(200, activation='relu'),\n",
    "    Dense(input_dim)\n",
    "])"
   ],
   "metadata": {
    "collapsed": false,
    "ExecuteTime": {
     "end_time": "2023-06-15T18:25:58.868922788Z",
     "start_time": "2023-06-15T18:25:58.656989301Z"
    }
   }
  },
  {
   "cell_type": "code",
   "execution_count": 31,
   "outputs": [],
   "source": [
    "# Add convolutional layers\n",
    "conv = Sequential([\n",
    "    # TODO: Thirdly, the dropout has been parametrized according to the strategy of the annealing dropout, from a rate  of 0.5 to a rate of 0.0 after 100 epochs\n",
    "    Conv1D(filters=64, kernel_size=10, padding='same'),\n",
    "    MaxPooling1D(pool_size = 2),\n",
    "    PReLU(alpha_initializer='zeros'),\n",
    "    Dropout(rate = 0.2),\n",
    "\n",
    "    Conv1D(filters=128, kernel_size=6, padding='same'),\n",
    "    MaxPooling1D(pool_size = 2),\n",
    "    PReLU(alpha_initializer='zeros'),\n",
    "    Dropout(rate = 0.2),\n",
    "\n",
    "    Conv1D(filters=128, kernel_size=6, padding='same'),\n",
    "    MaxPooling1D(pool_size = 2),\n",
    "    PReLU(alpha_initializer='zeros'),\n",
    "    Dropout(rate = 0.2),\n",
    "\n",
    "    Conv1D(filters=128, kernel_size=4, padding='same'),\n",
    "    MaxPooling1D(pool_size = 2),\n",
    "    PReLU(alpha_initializer='zeros'),\n",
    "    Dropout(rate = 0.2)\n",
    "])"
   ],
   "metadata": {
    "collapsed": false,
    "ExecuteTime": {
     "end_time": "2023-06-15T18:25:58.870820809Z",
     "start_time": "2023-06-15T18:25:58.869151348Z"
    }
   }
  },
  {
   "cell_type": "code",
   "execution_count": 32,
   "outputs": [],
   "source": [
    "# Add classification layers on top of the decoder part\n",
    "model = Sequential([\n",
    "    InputLayer(input_shape=input_shape),\n",
    "\n",
    "    conv,\n",
    "\n",
    "    Flatten(),\n",
    "\n",
    "    Dense(32),\n",
    "    BatchNormalization(),\n",
    "    PReLU(alpha_initializer='zeros'),\n",
    "    Dropout(0.5),\n",
    "\n",
    "    Dense(num_classes, activation='sigmoid')\n",
    "])"
   ],
   "metadata": {
    "collapsed": false,
    "ExecuteTime": {
     "end_time": "2023-06-15T18:25:59.443633262Z",
     "start_time": "2023-06-15T18:25:59.287952310Z"
    }
   }
  },
  {
   "cell_type": "code",
   "execution_count": 33,
   "outputs": [],
   "source": [
    "# Compile the model\n",
    "model.compile(optimizer='adam', loss='binary_crossentropy', metrics=['accuracy'])"
   ],
   "metadata": {
    "collapsed": false,
    "ExecuteTime": {
     "end_time": "2023-06-15T18:25:59.635571437Z",
     "start_time": "2023-06-15T18:25:59.628007319Z"
    }
   }
  },
  {
   "cell_type": "code",
   "execution_count": 34,
   "outputs": [
    {
     "name": "stdout",
     "output_type": "stream",
     "text": [
      "Model: \"sequential_12\"\n",
      "_________________________________________________________________\n",
      " Layer (type)                Output Shape              Param #   \n",
      "=================================================================\n",
      " conv1d_12 (Conv1D)          (None, 100, 64)           704       \n",
      "                                                                 \n",
      " max_pooling1d_12 (MaxPoolin  (None, 50, 64)           0         \n",
      " g1D)                                                            \n",
      "                                                                 \n",
      " p_re_lu_17 (PReLU)          (None, 50, 64)            3200      \n",
      "                                                                 \n",
      " dropout_17 (Dropout)        (None, 50, 64)            0         \n",
      "                                                                 \n",
      " conv1d_13 (Conv1D)          (None, 50, 128)           49280     \n",
      "                                                                 \n",
      " max_pooling1d_13 (MaxPoolin  (None, 25, 128)          0         \n",
      " g1D)                                                            \n",
      "                                                                 \n",
      " p_re_lu_18 (PReLU)          (None, 25, 128)           3200      \n",
      "                                                                 \n",
      " dropout_18 (Dropout)        (None, 25, 128)           0         \n",
      "                                                                 \n",
      " conv1d_14 (Conv1D)          (None, 25, 128)           98432     \n",
      "                                                                 \n",
      " max_pooling1d_14 (MaxPoolin  (None, 12, 128)          0         \n",
      " g1D)                                                            \n",
      "                                                                 \n",
      " p_re_lu_19 (PReLU)          (None, 12, 128)           1536      \n",
      "                                                                 \n",
      " dropout_19 (Dropout)        (None, 12, 128)           0         \n",
      "                                                                 \n",
      " conv1d_15 (Conv1D)          (None, 12, 128)           65664     \n",
      "                                                                 \n",
      " max_pooling1d_15 (MaxPoolin  (None, 6, 128)           0         \n",
      " g1D)                                                            \n",
      "                                                                 \n",
      " p_re_lu_20 (PReLU)          (None, 6, 128)            768       \n",
      "                                                                 \n",
      " dropout_20 (Dropout)        (None, 6, 128)            0         \n",
      "                                                                 \n",
      "=================================================================\n",
      "Total params: 222,784\n",
      "Trainable params: 222,784\n",
      "Non-trainable params: 0\n",
      "_________________________________________________________________\n",
      "Model: \"sequential_13\"\n",
      "_________________________________________________________________\n",
      " Layer (type)                Output Shape              Param #   \n",
      "=================================================================\n",
      " sequential_12 (Sequential)  (None, 6, 128)            222784    \n",
      "                                                                 \n",
      " flatten_5 (Flatten)         (None, 768)               0         \n",
      "                                                                 \n",
      " dense_42 (Dense)            (None, 32)                24608     \n",
      "                                                                 \n",
      " batch_normalization_5 (Batc  (None, 32)               128       \n",
      " hNormalization)                                                 \n",
      "                                                                 \n",
      " p_re_lu_21 (PReLU)          (None, 32)                32        \n",
      "                                                                 \n",
      " dropout_21 (Dropout)        (None, 32)                0         \n",
      "                                                                 \n",
      " dense_43 (Dense)            (None, 2)                 66        \n",
      "                                                                 \n",
      "=================================================================\n",
      "Total params: 247,618\n",
      "Trainable params: 247,554\n",
      "Non-trainable params: 64\n",
      "_________________________________________________________________\n"
     ]
    }
   ],
   "source": [
    "# Print the summary of the model\n",
    "# autoencoder.summary()\n",
    "\n",
    "conv.summary()\n",
    "\n",
    "model.summary()"
   ],
   "metadata": {
    "collapsed": false,
    "ExecuteTime": {
     "end_time": "2023-06-15T18:26:00.469308113Z",
     "start_time": "2023-06-15T18:26:00.378984889Z"
    }
   }
  },
  {
   "cell_type": "code",
   "execution_count": 35,
   "outputs": [],
   "source": [
    "# To feed data to this model - fit() method of the model object, e.g.:\n",
    "# model.fit(x_train, y_train, epochs=10, batch_size=32)"
   ],
   "metadata": {
    "collapsed": false,
    "ExecuteTime": {
     "end_time": "2023-06-15T18:26:01.448936419Z",
     "start_time": "2023-06-15T18:26:01.445769476Z"
    }
   }
  },
  {
   "cell_type": "code",
   "execution_count": 36,
   "outputs": [],
   "source": [
    "model.save('../models/4conv_1dens32.hdf5')"
   ],
   "metadata": {
    "collapsed": false,
    "ExecuteTime": {
     "end_time": "2023-06-15T18:26:01.776481520Z",
     "start_time": "2023-06-15T18:26:01.750741835Z"
    }
   }
  },
  {
   "cell_type": "code",
   "execution_count": null,
   "outputs": [],
   "source": [],
   "metadata": {
    "collapsed": false
   }
  }
 ],
 "metadata": {
  "kernelspec": {
   "display_name": "Python 3",
   "language": "python",
   "name": "python3"
  },
  "language_info": {
   "codemirror_mode": {
    "name": "ipython",
    "version": 2
   },
   "file_extension": ".py",
   "mimetype": "text/x-python",
   "name": "python",
   "nbconvert_exporter": "python",
   "pygments_lexer": "ipython2",
   "version": "2.7.6"
  }
 },
 "nbformat": 4,
 "nbformat_minor": 0
}
