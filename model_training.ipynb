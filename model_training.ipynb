{
 "cells": [
  {
   "cell_type": "code",
   "execution_count": 3,
   "metadata": {
    "collapsed": true,
    "ExecuteTime": {
     "end_time": "2023-06-06T11:47:01.904913401Z",
     "start_time": "2023-06-06T11:47:00.145102482Z"
    }
   },
   "outputs": [],
   "source": [
    "import tensorflow as tf\n",
    "from tensorflow.keras import backend as K\n",
    "from tensorflow.keras.models import Sequential\n",
    "from tensorflow.keras.layers import Dense, Dropout\n",
    "from tensorflow.keras.optimizers import Adam\n",
    "\n",
    "import numpy as np\n",
    "import matplotlib.pyplot as plt"
   ]
  },
  {
   "cell_type": "code",
   "execution_count": 4,
   "outputs": [],
   "source": [
    "beat_annotation_names = {\n",
    "    \"N\":    \"Normal beat\",\n",
    "    \"L\":    \"Left bundle branch block beat\",\n",
    "    \"R\":    \"Right bundle branch block beat\",\n",
    "    \"B\":    \"Bundle branch block beat (unspecified)\",\n",
    "    \"A\":    \"Atrial premature beat\",\n",
    "    \"a\":    \"Aberrated atrial premature beat\",\n",
    "    \"J\":    \"Nodal (junctional) premature beat\",\n",
    "    \"S\":    \"Supraventricular premature or ectopic beat (atrial or nodal)\",\n",
    "    \"V\":    \"Premature ventricular contraction\",\n",
    "    \"r\":    \"R-on-T premature ventricular contraction\",\n",
    "    \"F\":    \"Fusion of ventricular and normal beat\",\n",
    "    \"e\":    \"Atrial escape beat\",\n",
    "    \"j\":   \t\"Nodal (junctional) escape beat \",\n",
    "    \"n\":   \t\"Supraventricular escape beat (atrial or nodal) \",\n",
    "    \"E\":   \t\"Ventricular escape beat\",\n",
    "    \"/\":    \"Paced beat\",\n",
    "    \"f\":   \t\"Fusion of paced and normal beat\" ,\n",
    "    \"Q\":   \t\"Unclassifiable beat\",\n",
    "    \"?\":    \"Beat not classified during learning\"\n",
    "}"
   ],
   "metadata": {
    "collapsed": false,
    "ExecuteTime": {
     "end_time": "2023-06-06T12:03:50.037433090Z",
     "start_time": "2023-06-06T12:03:49.974825752Z"
    }
   }
  },
  {
   "cell_type": "code",
   "execution_count": 5,
   "outputs": [],
   "source": [
    "non_beat_annotation_names = {\n",
    "    \"[\" : \"Start of ventricular flutter/fibrillation\",\n",
    "    \"!\" : \"Ventricular flutter wave\",\n",
    "    \"]\" : \"End of ventricular flutter/fibrillation\",\n",
    "    \"x\" : \"Non-conducted P-wave (blocked APC)\",\n",
    "    \"(\" : \"Waveform onset\",\n",
    "    \")\" : \"Waveform end\",\n",
    "    \"p\" : \"Peak of P-wave\",\n",
    "    \"t\" : \"Peak of T-wave\",\n",
    "    \"u\" : \"Peak of U-wave\",\n",
    "    \"`\" : \"PQ junction\",\n",
    "    \"'\" : \"J-point\",\n",
    "    \"^\" : \"(Non-captured) pacemaker artifact\",\n",
    "    \"|\" : \"Isolated QRS-like artifact\",\n",
    "    \"~\" : \"Change in signal quality\",\n",
    "    \"+\" : \"Rhythm change\",\n",
    "    \"s\" : \"ST segment change\",\n",
    "    \"T\" : \"T-wave change\",\n",
    "    \"*\" : \"Systole\",\n",
    "    \"D\" : \"Diastole\",\n",
    "    \"=\" : \"Measurement annotation\",\n",
    "    \"\\\"\" : \"Comment annotation\",\n",
    "    \"@\" : \"Link to external data\"\n",
    "}"
   ],
   "metadata": {
    "collapsed": false,
    "ExecuteTime": {
     "end_time": "2023-06-06T12:03:52.262140556Z",
     "start_time": "2023-06-06T12:03:52.249341096Z"
    }
   }
  },
  {
   "cell_type": "code",
   "execution_count": 6,
   "outputs": [],
   "source": [
    "rhytm_annotation_names = {\n",
    "    \"(AB\": \"Atrial bigeminy\",\n",
    "    \"(AFIB\": \"Atrial fibrillation\",\n",
    "    \"(AFL\": \"Atrial flutter\",\n",
    "    \"(B\": \"Ventricular bigeminy\",\n",
    "    \"(BII\": \"2° heart block\",\n",
    "    \"(IVR\": \"Idioventricular rhythm\",\n",
    "    \"(N\": \"Normal sinus rhythm\",\n",
    "    \"(NOD\": \"Nodal (A-V junctional) rhythm\",\n",
    "    \"(P\": \"Paced rhythm\",\n",
    "    \"(PREX\": \"Pre-excitation (WPW)\",\n",
    "    \"(SBR\": \"Sinus bradycardia\",\n",
    "    \"(SVTA\": \"Supraventricular tachyarrhythmia\",\n",
    "    \"(T\": \"Ventricular trigeminy\",\n",
    "    \"(VFL\": \"Ventricular flutter\",\n",
    "    \"(VT\": \"Ventricular tachycardia\"\n",
    "}"
   ],
   "metadata": {
    "collapsed": false,
    "ExecuteTime": {
     "end_time": "2023-06-06T12:03:53.973025241Z",
     "start_time": "2023-06-06T12:03:53.926067950Z"
    }
   }
  },
  {
   "cell_type": "code",
   "execution_count": 7,
   "outputs": [],
   "source": [
    "quality_and_comment_annotation_names = {\n",
    "    \"qq\": \"Signal quality change: the first character ('c' or 'n') indicates the quality of the upper signal (clean or noisy), and the second character indicates the quality of the lower signal\",\n",
    "    \"U\": \"Extreme noise or signal loss in both signals: ECG is unreadable\",\n",
    "    \"M\": \"(or MISSB) Missed beat\",\n",
    "    \"P\": \"(or PSE) Pause\",\n",
    "    \"T\": \"(or TS) Tape slippage\"\n",
    "}"
   ],
   "metadata": {
    "collapsed": false,
    "ExecuteTime": {
     "end_time": "2023-06-06T12:05:24.469333994Z",
     "start_time": "2023-06-06T12:05:24.404561004Z"
    }
   }
  },
  {
   "cell_type": "code",
   "execution_count": null,
   "outputs": [],
   "source": [],
   "metadata": {
    "collapsed": false
   }
  }
 ],
 "metadata": {
  "kernelspec": {
   "display_name": "Python 3",
   "language": "python",
   "name": "python3"
  },
  "language_info": {
   "codemirror_mode": {
    "name": "ipython",
    "version": 2
   },
   "file_extension": ".py",
   "mimetype": "text/x-python",
   "name": "python",
   "nbconvert_exporter": "python",
   "pygments_lexer": "ipython2",
   "version": "2.7.6"
  }
 },
 "nbformat": 4,
 "nbformat_minor": 0
}
