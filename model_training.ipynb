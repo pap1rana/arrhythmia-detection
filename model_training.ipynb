{
 "cells": [
  {
   "cell_type": "code",
   "execution_count": 8,
   "metadata": {
    "collapsed": true,
    "ExecuteTime": {
     "end_time": "2023-06-15T15:39:25.756625105Z",
     "start_time": "2023-06-15T15:39:25.752146678Z"
    }
   },
   "outputs": [],
   "source": [
    "from keras.models import Sequential\n",
    "from keras.layers import Dense, Conv1D, MaxPooling1D, PReLU, Flatten, Dropout, BatchNormalization"
   ]
  },
  {
   "cell_type": "code",
   "execution_count": 9,
   "outputs": [],
   "source": [
    "# Define the auto-encoder architecture\n",
    "input_dim = 400\n",
    "latent_dim = 20\n",
    "num_classes = 2\n",
    "drop_rate = 0.2\n",
    "input_shape = (50, 1)"
   ],
   "metadata": {
    "collapsed": false,
    "ExecuteTime": {
     "end_time": "2023-06-15T15:39:25.919270636Z",
     "start_time": "2023-06-15T15:39:25.912317013Z"
    }
   }
  },
  {
   "cell_type": "code",
   "execution_count": 10,
   "outputs": [],
   "source": [
    "# Create the auto-encoder model\n",
    "autoencoder = Sequential([\n",
    "    Dense(200, activation='relu', input_shape=input_shape),\n",
    "    Dense(100, activation='relu'),\n",
    "    Dense(50, activation='relu'),\n",
    "    Dense(latent_dim, activation='relu'),\n",
    "    Dense(50, activation='relu'),\n",
    "    Dense(100, activation='relu'),\n",
    "    Dense(200, activation='relu'),\n",
    "    Dense(input_dim)\n",
    "])"
   ],
   "metadata": {
    "collapsed": false,
    "ExecuteTime": {
     "end_time": "2023-06-15T15:39:26.229783574Z",
     "start_time": "2023-06-15T15:39:26.105395960Z"
    }
   }
  },
  {
   "cell_type": "code",
   "execution_count": 11,
   "outputs": [],
   "source": [
    "# Add convolutional layers\n",
    "conv = Sequential([\n",
    "    # TODO: Thirdly, the dropout has been parametrized according to the strategy of the annealing dropout, from a rate  of 0.5 to a rate of 0.0 after 100 epochs\n",
    "    Conv1D(filters=64, kernel_size=10, padding='same', input_shape=input_shape),\n",
    "    MaxPooling1D(pool_size = 2),\n",
    "    PReLU(alpha_initializer='zeros'),\n",
    "    Dropout(rate = 0.2),\n",
    "\n",
    "    Conv1D(filters=128, kernel_size=6, padding='same'),\n",
    "    MaxPooling1D(pool_size = 2),\n",
    "    PReLU(alpha_initializer='zeros'),\n",
    "    Dropout(rate = 0.2),\n",
    "\n",
    "    Conv1D(filters=128, kernel_size=6, padding='same'),\n",
    "    MaxPooling1D(pool_size = 2),\n",
    "    PReLU(alpha_initializer='zeros'),\n",
    "    Dropout(rate = 0.2),\n",
    "\n",
    "    Conv1D(filters=128, kernel_size=4, padding='same'),\n",
    "    MaxPooling1D(pool_size = 2),\n",
    "    PReLU(alpha_initializer='zeros'),\n",
    "    Dropout(rate = 0.2)\n",
    "])"
   ],
   "metadata": {
    "collapsed": false,
    "ExecuteTime": {
     "end_time": "2023-06-15T15:39:26.396401909Z",
     "start_time": "2023-06-15T15:39:26.312974872Z"
    }
   }
  },
  {
   "cell_type": "code",
   "execution_count": 12,
   "outputs": [],
   "source": [
    "# Add classification layers on top of the decoder part\n",
    "model = Sequential([\n",
    "    conv,\n",
    "\n",
    "    Flatten(),\n",
    "\n",
    "    Dense(32),\n",
    "    BatchNormalization(),\n",
    "    PReLU(alpha_initializer='zeros'),\n",
    "    Dropout(0.5),\n",
    "\n",
    "    Dense(num_classes, activation='sigmoid')\n",
    "])"
   ],
   "metadata": {
    "collapsed": false,
    "ExecuteTime": {
     "end_time": "2023-06-15T15:39:26.734231544Z",
     "start_time": "2023-06-15T15:39:26.645103780Z"
    }
   }
  },
  {
   "cell_type": "code",
   "execution_count": 13,
   "outputs": [],
   "source": [
    "# Compile the model\n",
    "model.compile(optimizer='adam', loss='binary_crossentropy', metrics=['accuracy'])"
   ],
   "metadata": {
    "collapsed": false,
    "ExecuteTime": {
     "end_time": "2023-06-15T15:39:27.276558779Z",
     "start_time": "2023-06-15T15:39:27.266384700Z"
    }
   }
  },
  {
   "cell_type": "code",
   "execution_count": 14,
   "outputs": [
    {
     "name": "stdout",
     "output_type": "stream",
     "text": [
      "Model: \"sequential_4\"\n",
      "_________________________________________________________________\n",
      " Layer (type)                Output Shape              Param #   \n",
      "=================================================================\n",
      " conv1d_4 (Conv1D)           (None, 50, 64)            704       \n",
      "                                                                 \n",
      " max_pooling1d_4 (MaxPooling  (None, 25, 64)           0         \n",
      " 1D)                                                             \n",
      "                                                                 \n",
      " p_re_lu_5 (PReLU)           (None, 25, 64)            1600      \n",
      "                                                                 \n",
      " dropout_5 (Dropout)         (None, 25, 64)            0         \n",
      "                                                                 \n",
      " conv1d_5 (Conv1D)           (None, 25, 128)           49280     \n",
      "                                                                 \n",
      " max_pooling1d_5 (MaxPooling  (None, 12, 128)          0         \n",
      " 1D)                                                             \n",
      "                                                                 \n",
      " p_re_lu_6 (PReLU)           (None, 12, 128)           1536      \n",
      "                                                                 \n",
      " dropout_6 (Dropout)         (None, 12, 128)           0         \n",
      "                                                                 \n",
      " conv1d_6 (Conv1D)           (None, 12, 128)           98432     \n",
      "                                                                 \n",
      " max_pooling1d_6 (MaxPooling  (None, 6, 128)           0         \n",
      " 1D)                                                             \n",
      "                                                                 \n",
      " p_re_lu_7 (PReLU)           (None, 6, 128)            768       \n",
      "                                                                 \n",
      " dropout_7 (Dropout)         (None, 6, 128)            0         \n",
      "                                                                 \n",
      " conv1d_7 (Conv1D)           (None, 6, 128)            65664     \n",
      "                                                                 \n",
      " max_pooling1d_7 (MaxPooling  (None, 3, 128)           0         \n",
      " 1D)                                                             \n",
      "                                                                 \n",
      " p_re_lu_8 (PReLU)           (None, 3, 128)            384       \n",
      "                                                                 \n",
      " dropout_8 (Dropout)         (None, 3, 128)            0         \n",
      "                                                                 \n",
      "=================================================================\n",
      "Total params: 218,368\n",
      "Trainable params: 218,368\n",
      "Non-trainable params: 0\n",
      "_________________________________________________________________\n",
      "Model: \"sequential_5\"\n",
      "_________________________________________________________________\n",
      " Layer (type)                Output Shape              Param #   \n",
      "=================================================================\n",
      " sequential_4 (Sequential)   (None, 3, 128)            218368    \n",
      "                                                                 \n",
      " flatten_1 (Flatten)         (None, 384)               0         \n",
      "                                                                 \n",
      " dense_18 (Dense)            (None, 32)                12320     \n",
      "                                                                 \n",
      " batch_normalization_1 (Batc  (None, 32)               128       \n",
      " hNormalization)                                                 \n",
      "                                                                 \n",
      " p_re_lu_9 (PReLU)           (None, 32)                32        \n",
      "                                                                 \n",
      " dropout_9 (Dropout)         (None, 32)                0         \n",
      "                                                                 \n",
      " dense_19 (Dense)            (None, 2)                 66        \n",
      "                                                                 \n",
      "=================================================================\n",
      "Total params: 230,914\n",
      "Trainable params: 230,850\n",
      "Non-trainable params: 64\n",
      "_________________________________________________________________\n"
     ]
    }
   ],
   "source": [
    "# Print the summary of the model\n",
    "# autoencoder.summary()\n",
    "\n",
    "conv.summary()\n",
    "\n",
    "model.summary()"
   ],
   "metadata": {
    "collapsed": false,
    "ExecuteTime": {
     "end_time": "2023-06-15T15:39:27.703430362Z",
     "start_time": "2023-06-15T15:39:27.652009784Z"
    }
   }
  },
  {
   "cell_type": "code",
   "execution_count": 15,
   "outputs": [],
   "source": [
    "# To feed data to this model - fit() method of the model object, e.g.:\n",
    "# model.fit(x_train, y_train, epochs=10, batch_size=32)"
   ],
   "metadata": {
    "collapsed": false,
    "ExecuteTime": {
     "end_time": "2023-06-15T15:39:28.287575316Z",
     "start_time": "2023-06-15T15:39:28.281691593Z"
    }
   }
  },
  {
   "cell_type": "code",
   "execution_count": 17,
   "outputs": [],
   "source": [
    "model.save('../models/zez.hdf5')"
   ],
   "metadata": {
    "collapsed": false,
    "ExecuteTime": {
     "end_time": "2023-06-15T15:43:15.194057601Z",
     "start_time": "2023-06-15T15:43:15.049338828Z"
    }
   }
  },
  {
   "cell_type": "code",
   "execution_count": 19,
   "outputs": [],
   "source": [
    "from keras.models import load_model\n",
    "\n",
    "model2 = load_model('../models/zez.hdf5')"
   ],
   "metadata": {
    "collapsed": false,
    "ExecuteTime": {
     "end_time": "2023-06-15T15:44:07.002991772Z",
     "start_time": "2023-06-15T15:44:06.766885310Z"
    }
   }
  },
  {
   "cell_type": "code",
   "execution_count": 21,
   "outputs": [
    {
     "name": "stdout",
     "output_type": "stream",
     "text": [
      "Model: \"sequential_5\"\n",
      "_________________________________________________________________\n",
      " Layer (type)                Output Shape              Param #   \n",
      "=================================================================\n",
      " sequential_4 (Sequential)   (None, 3, 128)            218368    \n",
      "                                                                 \n",
      " flatten_1 (Flatten)         (None, 384)               0         \n",
      "                                                                 \n",
      " dense_18 (Dense)            (None, 32)                12320     \n",
      "                                                                 \n",
      " batch_normalization_1 (Batc  (None, 32)               128       \n",
      " hNormalization)                                                 \n",
      "                                                                 \n",
      " p_re_lu_9 (PReLU)           (None, 32)                32        \n",
      "                                                                 \n",
      " dropout_9 (Dropout)         (None, 32)                0         \n",
      "                                                                 \n",
      " dense_19 (Dense)            (None, 2)                 66        \n",
      "                                                                 \n",
      "=================================================================\n",
      "Total params: 230,914\n",
      "Trainable params: 230,850\n",
      "Non-trainable params: 64\n",
      "_________________________________________________________________\n"
     ]
    }
   ],
   "source": [
    "model2.summary()"
   ],
   "metadata": {
    "collapsed": false,
    "ExecuteTime": {
     "end_time": "2023-06-15T15:46:40.909871186Z",
     "start_time": "2023-06-15T15:46:40.867707059Z"
    }
   }
  },
  {
   "cell_type": "code",
   "execution_count": null,
   "outputs": [],
   "source": [],
   "metadata": {
    "collapsed": false
   }
  }
 ],
 "metadata": {
  "kernelspec": {
   "display_name": "Python 3",
   "language": "python",
   "name": "python3"
  },
  "language_info": {
   "codemirror_mode": {
    "name": "ipython",
    "version": 2
   },
   "file_extension": ".py",
   "mimetype": "text/x-python",
   "name": "python",
   "nbconvert_exporter": "python",
   "pygments_lexer": "ipython2",
   "version": "2.7.6"
  }
 },
 "nbformat": 4,
 "nbformat_minor": 0
}
