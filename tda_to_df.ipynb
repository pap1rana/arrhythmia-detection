{
 "cells": [
  {
   "cell_type": "code",
   "execution_count": 27,
   "outputs": [],
   "source": [
    "import gtda.plotting\n",
    "import pandas as pd\n",
    "from heartbeat_slicer_utils import HeartbeatSlicer\n",
    "from tda_utils import make_point_cloud, make_complex_w_pers_diag, make_betti_curve"
   ],
   "metadata": {
    "collapsed": false,
    "ExecuteTime": {
     "end_time": "2023-06-15T02:09:27.909426859Z",
     "start_time": "2023-06-15T02:09:27.867611746Z"
    }
   }
  },
  {
   "cell_type": "code",
   "execution_count": 28,
   "outputs": [],
   "source": [
    "from gtda.time_series import SingleTakensEmbedding\n",
    "from gtda.homology import VietorisRipsPersistence\n",
    "from gtda.diagrams import BettiCurve\n",
    "from gtda.plotting import plot_point_cloud\n",
    "import gtda.plotting as gp\n",
    "from datetime import datetime\n",
    "from matplotlib import pyplot as plt"
   ],
   "metadata": {
    "collapsed": false,
    "ExecuteTime": {
     "end_time": "2023-06-15T02:09:29.099161266Z",
     "start_time": "2023-06-15T02:09:29.094236262Z"
    }
   }
  },
  {
   "cell_type": "code",
   "execution_count": 29,
   "outputs": [],
   "source": [
    "folder_path = \"data_processed/mitdb\"\n",
    "record_names_path = \"data_original/mitdb/RECORDS\"\n",
    "\n",
    "with open(record_names_path, 'r') as record_names_file:\n",
    "    record_names = record_names_file.readlines()\n",
    "\n",
    "record_names = [record_name[:-1] for record_name in record_names]"
   ],
   "metadata": {
    "collapsed": false,
    "ExecuteTime": {
     "end_time": "2023-06-15T02:09:29.372331366Z",
     "start_time": "2023-06-15T02:09:29.364477329Z"
    }
   }
  },
  {
   "cell_type": "code",
   "execution_count": 30,
   "outputs": [],
   "source": [
    "data = []\n",
    "\n",
    "for record_name in record_names:\n",
    "    sliced = HeartbeatSlicer(folder_path + '/' + record_name + '_processed')\n",
    "    data.append(sliced.annotate_heartbeats())"
   ],
   "metadata": {
    "collapsed": false,
    "ExecuteTime": {
     "end_time": "2023-06-15T02:09:32.757454182Z",
     "start_time": "2023-06-15T02:09:30.017868966Z"
    }
   }
  },
  {
   "cell_type": "code",
   "execution_count": 31,
   "outputs": [],
   "source": [
    "#[patient][heartbeat_num] - [0]:heartbeat [1]:ann"
   ],
   "metadata": {
    "collapsed": false,
    "ExecuteTime": {
     "end_time": "2023-06-15T02:09:32.763700758Z",
     "start_time": "2023-06-15T02:09:32.760354652Z"
    }
   }
  },
  {
   "cell_type": "code",
   "execution_count": 32,
   "outputs": [],
   "source": [
    "# betti curve plot\n",
    "\n",
    "# heartbeat\n",
    "# plt.plot(dataSvDB[2][2][0])\n",
    "\n",
    "# pointcloud\n",
    "# pc_test = make_point_cloud(dataSvDB[2][2][0])\n",
    "# gp.plot_point_cloud(pc_test).show()\n",
    "#\n",
    "# # persistence diagram\n",
    "# pd_test = make_complex_w_pers_diag(pc_test)\n",
    "# gp.plot_diagram(pd_test[0]).show()\n",
    "#\n",
    "# # betti curve H0 H1\n",
    "# bc_test = make_betti_curve(pd_test)\n",
    "# plt.plot(bc_test[0][0])\n",
    "# plt.plot(bc_test[0][1])\n",
    "# bc_test\n"
   ],
   "metadata": {
    "collapsed": false,
    "ExecuteTime": {
     "end_time": "2023-06-15T02:09:32.857058294Z",
     "start_time": "2023-06-15T02:09:32.767459551Z"
    }
   }
  },
  {
   "cell_type": "code",
   "execution_count": null,
   "outputs": [
    {
     "name": "stdout",
     "output_type": "stream",
     "text": [
      "Processing patient:  1 / 48  | heartbeat:  1 / 2268\n",
      "Processing patient:  1 / 48  | heartbeat:  2 / 2268\n",
      "Processing patient:  1 / 48  | heartbeat:  3 / 2268\n"
     ]
    }
   ],
   "source": [
    "df_to_be = []\n",
    "patient_counter = 0\n",
    "patient_number = len(data)\n",
    "timestamp_begin = datetime.now()\n",
    "\n",
    "for patient in data:\n",
    "    patient_counter = patient_counter+1\n",
    "    heartbeat_counter = 0\n",
    "    heartbeat_number = len(patient)\n",
    "\n",
    "    for heartbeat, ann in patient:\n",
    "        heartbeat_counter = heartbeat_counter+1\n",
    "        print(\"Processing patient: \", patient_counter, \"/\", patient_number, \" | heartbeat: \", heartbeat_counter, \"/\", heartbeat_number)\n",
    "        # Convert the segment to a point cloud\n",
    "        point_cloud = make_point_cloud(heartbeat)\n",
    "\n",
    "        # Compute the Vietoris-Rips complex and its persistence diagram\n",
    "        diag = make_complex_w_pers_diag(point_cloud)\n",
    "\n",
    "        # Compute and return Betti curve\n",
    "        betti = make_betti_curve(diag)\n",
    "\n",
    "        betti_h0 = betti[0][0]\n",
    "        betti_h1 = betti[0][1]\n",
    "\n",
    "        df_to_be.append([point_cloud, diag, betti_h0, betti_h1, ann])\n",
    "\n",
    "        if heartbeat_counter == 5:\n",
    "            break\n",
    "\n",
    "    if patient_counter == 5:\n",
    "        break\n",
    "\n",
    "\n",
    "timestamp_end = datetime.now()\n",
    "print(\"----------------------------------------------------------------\")\n",
    "print(\"started: \", timestamp_begin, \" | finished: \", timestamp_end)\n",
    "df = pd.DataFrame(df_to_be, columns=['points_cloud', 'diag', 'betti_H0', 'betti_H1', 'ann'])\n"
   ],
   "metadata": {
    "collapsed": false,
    "is_executing": true,
    "ExecuteTime": {
     "start_time": "2023-06-15T02:11:32.745470059Z"
    }
   }
  },
  {
   "cell_type": "code",
   "execution_count": 35,
   "outputs": [
    {
     "data": {
      "text/plain": "array([464, 442, 412, 338, 289, 268, 244, 224, 194, 169, 153, 127, 110,\n        96,  89,  83,  78,  77,  72,  70,  68,  62,  58,  57,  57,  54,\n        50,  49,  48,  45,  44,  43,  43,  41,  39,  36,  35,  33,  32,\n        31,  31,  31,  31,  30,  29,  29,  28,  28,  27,  26,  26,  24,\n        22,  20,  18,  14,  13,  13,  11,   9,   9,   9,   7,   7,   7,\n         6,   4,   4,   3,   2,   2,   2,   2,   2,   2,   2,   2,   2,\n         2,   2,   2,   2,   2,   2,   2,   2,   2,   2,   2,   2,   1,\n         1,   1,   1,   1,   1,   1,   1,   1,   0])"
     },
     "execution_count": 35,
     "metadata": {},
     "output_type": "execute_result"
    }
   ],
   "source": [
    "df['betti_h0'][1]"
   ],
   "metadata": {
    "collapsed": false,
    "ExecuteTime": {
     "end_time": "2023-06-15T02:09:59.104758758Z",
     "start_time": "2023-06-15T02:09:59.089720842Z"
    }
   }
  },
  {
   "cell_type": "code",
   "execution_count": 42,
   "outputs": [],
   "source": [
    "import csv\n",
    "\n",
    "df.to_csv('testing.csv', sep=',', quoting=csv.QUOTE_NONNUMERIC, index=False)"
   ],
   "metadata": {
    "collapsed": false,
    "ExecuteTime": {
     "end_time": "2023-06-15T02:10:50.069367878Z",
     "start_time": "2023-06-15T02:10:50.021961100Z"
    }
   }
  },
  {
   "cell_type": "code",
   "execution_count": 43,
   "outputs": [],
   "source": [
    "df_testing = pd.read_csv('testing.csv')"
   ],
   "metadata": {
    "collapsed": false,
    "ExecuteTime": {
     "end_time": "2023-06-15T02:10:51.304828626Z",
     "start_time": "2023-06-15T02:10:51.297555901Z"
    }
   }
  },
  {
   "cell_type": "code",
   "execution_count": 44,
   "outputs": [
    {
     "data": {
      "text/plain": "                                         points_cloud  \\\n14  [[ 0.0038127  -0.00150501 -0.00551838]\\n [ 0.0...   \n\n                                                 diag  \\\n14  [[[0.00000000e+00 1.00334160e-04 0.00000000e+0...   \n\n                                             betti_h0  \\\n14  [481 467 424 396 365 326 296 280 271 258 231 2...   \n\n                                             betti_h1  ann  \n14  [1 1 6 9 3 6 7 9 7 6 7 5 8 6 2 2 2 3 3 2 3 2 3...    0  ",
      "text/html": "<div>\n<style scoped>\n    .dataframe tbody tr th:only-of-type {\n        vertical-align: middle;\n    }\n\n    .dataframe tbody tr th {\n        vertical-align: top;\n    }\n\n    .dataframe thead th {\n        text-align: right;\n    }\n</style>\n<table border=\"1\" class=\"dataframe\">\n  <thead>\n    <tr style=\"text-align: right;\">\n      <th></th>\n      <th>points_cloud</th>\n      <th>diag</th>\n      <th>betti_h0</th>\n      <th>betti_h1</th>\n      <th>ann</th>\n    </tr>\n  </thead>\n  <tbody>\n    <tr>\n      <th>14</th>\n      <td>[[ 0.0038127  -0.00150501 -0.00551838]\\n [ 0.0...</td>\n      <td>[[[0.00000000e+00 1.00334160e-04 0.00000000e+0...</td>\n      <td>[481 467 424 396 365 326 296 280 271 258 231 2...</td>\n      <td>[1 1 6 9 3 6 7 9 7 6 7 5 8 6 2 2 2 3 3 2 3 2 3...</td>\n      <td>0</td>\n    </tr>\n  </tbody>\n</table>\n</div>"
     },
     "execution_count": 44,
     "metadata": {},
     "output_type": "execute_result"
    }
   ],
   "source": [
    "df_testing.sample()"
   ],
   "metadata": {
    "collapsed": false,
    "ExecuteTime": {
     "end_time": "2023-06-15T02:10:51.448786794Z",
     "start_time": "2023-06-15T02:10:51.444376797Z"
    }
   }
  },
  {
   "cell_type": "code",
   "execution_count": null,
   "outputs": [],
   "source": [],
   "metadata": {
    "collapsed": false
   }
  }
 ],
 "metadata": {
  "kernelspec": {
   "display_name": "Python 3",
   "language": "python",
   "name": "python3"
  },
  "language_info": {
   "codemirror_mode": {
    "name": "ipython",
    "version": 2
   },
   "file_extension": ".py",
   "mimetype": "text/x-python",
   "name": "python",
   "nbconvert_exporter": "python",
   "pygments_lexer": "ipython2",
   "version": "2.7.6"
  }
 },
 "nbformat": 4,
 "nbformat_minor": 0
}
